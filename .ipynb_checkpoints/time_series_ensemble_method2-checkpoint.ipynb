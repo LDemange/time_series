{
 "cells": [
  {
   "cell_type": "code",
   "execution_count": 10,
   "id": "8da5d675",
   "metadata": {},
   "outputs": [],
   "source": [
    "import pandas as pd\n",
    "import numpy as np\n",
    "from sklearn.preprocessing import RobustScaler, OneHotEncoder, OrdinalEncoder\n",
    "from sklearn.linear_model import Ridge, Lasso, LinearRegression\n",
    "from sklearn.pipeline import Pipeline, make_pipeline\n",
    "from sklearn.impute import SimpleImputer, KNNImputer\n",
    "from sklearn.compose import ColumnTransformer, make_column_transformer, make_column_selector\n",
    "from sklearn.preprocessing import MinMaxScaler, StandardScaler\n",
    "from sklearn.ensemble import RandomForestRegressor\n",
    "from sklearn.ensemble import BaggingRegressor\n",
    "from sklearn.ensemble import AdaBoostRegressor\n",
    "from sklearn.model_selection import cross_validate\n",
    "from sklearn.metrics import mean_absolute_percentage_error\n",
    "from sklearn.model_selection import cross_val_score\n",
    "from sklearn.tree import DecisionTreeRegressor\n",
    "from sklearn.neighbors import KNeighborsRegressor\n",
    "from sklearn.ensemble import GradientBoostingRegressor\n",
    "from sklearn.neighbors import KNeighborsRegressor\n",
    "from sklearn.linear_model import RidgeCV\n",
    "from sklearn.svm import LinearSVR\n",
    "from sklearn.ensemble import StackingRegressor\n",
    "from sklearn.linear_model import SGDRegressor\n",
    "from xgboost import XGBRegressor\n",
    "from sklearn.svm import SVR\n",
    "from keras.models import Sequential\n",
    "from keras.layers import Dense\n",
    "import matplotlib.pyplot as plt\n",
    "pd.set_option(\"display.max_columns\", False)\n",
    "from sklearn.metrics import mean_absolute_percentage_error\n",
    "from datetime import date, timedelta, datetime\n",
    "from sklearn.metrics import r2_score"
   ]
  },
  {
   "cell_type": "markdown",
   "id": "53f51821",
   "metadata": {},
   "source": [
    "# Prepare dataset"
   ]
  },
  {
   "cell_type": "markdown",
   "id": "e8db7153",
   "metadata": {},
   "source": [
    "## Load data"
   ]
  },
  {
   "cell_type": "code",
   "execution_count": 11,
   "id": "77a17368",
   "metadata": {},
   "outputs": [],
   "source": [
    "df = pd.read_csv('data/data_preparation.csv', index_col=[0])\n",
    "df['Date']=pd.to_datetime(df['Date'])\n",
    "df.set_index('Date',inplace=True)"
   ]
  },
  {
   "cell_type": "markdown",
   "id": "c9d12cc6",
   "metadata": {},
   "source": [
    "### Select relevant features"
   ]
  },
  {
   "cell_type": "code",
   "execution_count": 12,
   "id": "3ee225b3",
   "metadata": {},
   "outputs": [],
   "source": [
    "df.drop(columns=['t - 1', 't - 2', 't - 3', 't - 4', 't - 5',\n",
    "       't - 6', 't - 7', 't - 8', 't - 9', 't - 10', 't - 11', 't - 12',\n",
    "       't - 13', 't - 14', 't - 15', 't - 16', 't - 17', 't - 18', 't - 19',\n",
    "       't - 20', 't - 21', 't - 22', 't - 23', 't - 24', 't - 25', 't - 26',\n",
    "       't - 27', 't - 28', 't - 29', 't - 30','sin365_1', 'cos365_1', 'sin365_2', 'cos365_2',\n",
    "       'sin365_3', 'cos365_3','bank_holiday', 'school_holidays',\n",
    "       'season','Thermique (MW)', 'Nucléaire (MW)', 'Eolien (MW)', 'Solaire (MW)',\n",
    "       'Hydraulique (MW)', 'Pompage (MW)', 'Bioénergies (MW)',\n",
    "       'Ech. physiques (MW)', 'Stockage batterie', 'Déstockage batterie',\n",
    "       'Eolien terrestre', 'Eolien offshore', 'TCO Thermique (%)',\n",
    "       'TCH Thermique (%)', 'TCO Nucléaire (%)', 'TCH Nucléaire (%)',\n",
    "       'TCO Eolien (%)', 'TCH Eolien (%)', 'TCO Solaire (%)',\n",
    "       'TCH Solaire (%)', 'Column 30','Code INSEE région','sin_month', 'cos_month',\n",
    "        'num_day',\n",
    "        'YEAR', 'MONTH', 'DAY',\n",
    "        'T2MDEW', 'T2MWET', 'TS', 'T2M_RANGE',\n",
    "       'T2M_MAX', 'T2M_MIN','PS', 'QV2M','WS10M','WS50M','RH2M','week_day' #temoin\n",
    "        #'PRECTOTCORR' # PRECTOTCORR is bias-corrected total precipitation\n",
    "        #'sin_day','cos_day'\n",
    "                ],inplace=True)"
   ]
  },
  {
   "cell_type": "markdown",
   "id": "5d14e0ad",
   "metadata": {},
   "source": [
    "### Look of the dataset"
   ]
  },
  {
   "cell_type": "code",
   "execution_count": 13,
   "id": "4de3a9fa",
   "metadata": {},
   "outputs": [
    {
     "data": {
      "text/html": [
       "<div>\n",
       "<style scoped>\n",
       "    .dataframe tbody tr th:only-of-type {\n",
       "        vertical-align: middle;\n",
       "    }\n",
       "\n",
       "    .dataframe tbody tr th {\n",
       "        vertical-align: top;\n",
       "    }\n",
       "\n",
       "    .dataframe thead th {\n",
       "        text-align: right;\n",
       "    }\n",
       "</style>\n",
       "<table border=\"1\" class=\"dataframe\">\n",
       "  <thead>\n",
       "    <tr style=\"text-align: right;\">\n",
       "      <th></th>\n",
       "      <th>Consommation (MW)</th>\n",
       "      <th>T2M</th>\n",
       "      <th>PRECTOTCORR</th>\n",
       "      <th>sin_day</th>\n",
       "      <th>cos_day</th>\n",
       "    </tr>\n",
       "    <tr>\n",
       "      <th>Date</th>\n",
       "      <th></th>\n",
       "      <th></th>\n",
       "      <th></th>\n",
       "      <th></th>\n",
       "      <th></th>\n",
       "    </tr>\n",
       "  </thead>\n",
       "  <tbody>\n",
       "    <tr>\n",
       "      <th>2013-02-02</th>\n",
       "      <td>262321.0</td>\n",
       "      <td>5.55</td>\n",
       "      <td>1.94</td>\n",
       "      <td>-0.974928</td>\n",
       "      <td>-0.222521</td>\n",
       "    </tr>\n",
       "    <tr>\n",
       "      <th>2013-02-03</th>\n",
       "      <td>273743.0</td>\n",
       "      <td>2.96</td>\n",
       "      <td>0.02</td>\n",
       "      <td>-0.781831</td>\n",
       "      <td>0.623490</td>\n",
       "    </tr>\n",
       "    <tr>\n",
       "      <th>2013-02-04</th>\n",
       "      <td>295369.0</td>\n",
       "      <td>4.67</td>\n",
       "      <td>0.00</td>\n",
       "      <td>0.000000</td>\n",
       "      <td>1.000000</td>\n",
       "    </tr>\n",
       "    <tr>\n",
       "      <th>2013-02-05</th>\n",
       "      <td>287424.0</td>\n",
       "      <td>6.65</td>\n",
       "      <td>0.19</td>\n",
       "      <td>0.781831</td>\n",
       "      <td>0.623490</td>\n",
       "    </tr>\n",
       "    <tr>\n",
       "      <th>2013-02-06</th>\n",
       "      <td>294084.0</td>\n",
       "      <td>2.71</td>\n",
       "      <td>0.10</td>\n",
       "      <td>0.974928</td>\n",
       "      <td>-0.222521</td>\n",
       "    </tr>\n",
       "    <tr>\n",
       "      <th>...</th>\n",
       "      <td>...</td>\n",
       "      <td>...</td>\n",
       "      <td>...</td>\n",
       "      <td>...</td>\n",
       "      <td>...</td>\n",
       "    </tr>\n",
       "    <tr>\n",
       "      <th>2022-05-11</th>\n",
       "      <td>218296.0</td>\n",
       "      <td>18.10</td>\n",
       "      <td>0.00</td>\n",
       "      <td>0.974928</td>\n",
       "      <td>-0.222521</td>\n",
       "    </tr>\n",
       "    <tr>\n",
       "      <th>2022-05-12</th>\n",
       "      <td>209770.0</td>\n",
       "      <td>18.13</td>\n",
       "      <td>0.00</td>\n",
       "      <td>0.433884</td>\n",
       "      <td>-0.900969</td>\n",
       "    </tr>\n",
       "    <tr>\n",
       "      <th>2022-05-13</th>\n",
       "      <td>201061.0</td>\n",
       "      <td>18.01</td>\n",
       "      <td>0.10</td>\n",
       "      <td>-0.433884</td>\n",
       "      <td>-0.900969</td>\n",
       "    </tr>\n",
       "    <tr>\n",
       "      <th>2022-05-14</th>\n",
       "      <td>194195.0</td>\n",
       "      <td>19.47</td>\n",
       "      <td>0.83</td>\n",
       "      <td>-0.974928</td>\n",
       "      <td>-0.222521</td>\n",
       "    </tr>\n",
       "    <tr>\n",
       "      <th>2022-05-15</th>\n",
       "      <td>187301.0</td>\n",
       "      <td>19.63</td>\n",
       "      <td>0.44</td>\n",
       "      <td>-0.781831</td>\n",
       "      <td>0.623490</td>\n",
       "    </tr>\n",
       "  </tbody>\n",
       "</table>\n",
       "<p>3385 rows × 5 columns</p>\n",
       "</div>"
      ],
      "text/plain": [
       "            Consommation (MW)    T2M  PRECTOTCORR   sin_day   cos_day\n",
       "Date                                                                 \n",
       "2013-02-02           262321.0   5.55         1.94 -0.974928 -0.222521\n",
       "2013-02-03           273743.0   2.96         0.02 -0.781831  0.623490\n",
       "2013-02-04           295369.0   4.67         0.00  0.000000  1.000000\n",
       "2013-02-05           287424.0   6.65         0.19  0.781831  0.623490\n",
       "2013-02-06           294084.0   2.71         0.10  0.974928 -0.222521\n",
       "...                       ...    ...          ...       ...       ...\n",
       "2022-05-11           218296.0  18.10         0.00  0.974928 -0.222521\n",
       "2022-05-12           209770.0  18.13         0.00  0.433884 -0.900969\n",
       "2022-05-13           201061.0  18.01         0.10 -0.433884 -0.900969\n",
       "2022-05-14           194195.0  19.47         0.83 -0.974928 -0.222521\n",
       "2022-05-15           187301.0  19.63         0.44 -0.781831  0.623490\n",
       "\n",
       "[3385 rows x 5 columns]"
      ]
     },
     "execution_count": 13,
     "metadata": {},
     "output_type": "execute_result"
    }
   ],
   "source": [
    "df"
   ]
  },
  {
   "cell_type": "markdown",
   "id": "80c5d515",
   "metadata": {},
   "source": [
    "# Compute energy consumption"
   ]
  },
  {
   "cell_type": "markdown",
   "id": "6d1ea193",
   "metadata": {},
   "source": [
    "## Definition of the compute function"
   ]
  },
  {
   "cell_type": "code",
   "execution_count": 50,
   "id": "1255a1b5",
   "metadata": {},
   "outputs": [],
   "source": [
    "def compute_energy_forecast(df_base, Date_start_test, N_reg,model, methode, nb_epoch, batch_size):\n",
    "    \n",
    "    Date_start_test = pd.to_datetime(Date_start_test)\n",
    "    Date_fin_test =  Date_start_test + timedelta(days=N_test-1)\n",
    "    \n",
    "    if len(df.loc[df.index == Date_fin_test]) == 0:\n",
    "        date_max=pd.to_datetime('2022-05-14')-timedelta(days=N_test-1)\n",
    "        return f'Veuillez saisir une date de début de test inférieure ou egale à : {str(date_max)}'\n",
    "\n",
    "    if len(df.loc[df.index == Date_start_test-timedelta(days=2*N_reg)]) == 0:\n",
    "        date_limite_deb=pd.to_datetime('2013-03-04')+timedelta(days=2*N_reg)\n",
    "        return f'Veuillez saisir une date de début de test supérieure ou egale à : {str(date_limite_deb)}'\n",
    "    \n",
    "    df_train = df.loc[(df.index < Date_start_test)]\n",
    "    y_train = df_train['Consommation (MW)']\n",
    "    df_test = df.loc[(df.index >= Date_start_test) & (df.index <= Date_fin_test)]\n",
    "    y_true  = df_test['Consommation (MW)']\n",
    "    \n",
    "    df_train = df_train.copy()\n",
    "    df_test = df_test.copy()\n",
    "\n",
    "    for i in range(1, N_reg+1):\n",
    "        df_train[f't - {i}'] = df_train['Consommation (MW)'].shift(i)\n",
    "        df_test[f't - {i}'] = float('NaN')\n",
    "        \n",
    "    X_train = df_train.drop(columns='Consommation (MW)')[N_reg:] #retrait des NaN\n",
    "    y_train=df_train['Consommation (MW)'][N_reg:] #retrait des NaN\n",
    "           \n",
    "    pipe = make_pipeline(StandardScaler(), model)\n",
    "    \n",
    "    if methode == 'machine_learning':\n",
    "        model = pipe.fit(X_train, y_train)\n",
    "    elif methode == 'deep_learning':\n",
    "        model.fit(X_train, y_train, epochs=nb_epochs, batch_size=batch_size, verbose=1)\n",
    "    \n",
    "    v_reg = pd.DataFrame(index=['0'])\n",
    "    \n",
    "    y_pred=[]\n",
    "\n",
    "    for i in range(0,N_test):\n",
    "        X_test=df_test.iloc[[i]].drop(columns='Consommation (MW)')\n",
    "        if i==0:\n",
    "            for j in range(1, N_reg+1):\n",
    "                v_reg[f't - {j}'] = df_train['Consommation (MW)'][-j]\n",
    "        for j in range(1, N_reg+1):\n",
    "            X_test[f't - {j}'] = v_reg[f't - {j}'][0]\n",
    "        out=model.predict(X_test)\n",
    "        \n",
    "        if methode == 'machine_learning':\n",
    "            y_pred.append(out[0])\n",
    "        elif methode == 'deep_learning':\n",
    "            y_pred.append(out[0][0])\n",
    "        \n",
    "        if N_reg > 0:\n",
    "            v_reg=v_reg.shift(1,axis=1)\n",
    "            v_reg.iloc[0,0]=out[0]\n",
    "    \n",
    "    y_pred=pd.Series(y_pred,index=y_true.index)\n",
    "    \n",
    "    return y_true, y_pred, y_train"
   ]
  },
  {
   "cell_type": "markdown",
   "id": "8266a96d",
   "metadata": {},
   "source": [
    "## Inputs"
   ]
  },
  {
   "cell_type": "markdown",
   "id": "222ce57a",
   "metadata": {},
   "source": [
    "### Fenêtre de test et paramètres"
   ]
  },
  {
   "cell_type": "markdown",
   "id": "1fa57c68",
   "metadata": {},
   "source": [
    "ATTENTION, les conditions ci-dessous doivent impérativement être respectées :"
   ]
  },
  {
   "cell_type": "markdown",
   "id": "db40fcb3",
   "metadata": {},
   "source": [
    "Date_debut_test > 2013-02-02 et Date_debut_test <= 2022-05-15"
   ]
  },
  {
   "cell_type": "markdown",
   "id": "2f0cc47d",
   "metadata": {},
   "source": [
    "Date_debut_test <= 2022-05-14 - N_test + 1"
   ]
  },
  {
   "cell_type": "markdown",
   "id": "84e48164",
   "metadata": {},
   "source": [
    "Date_debut_test >= 2013-03-04 + 2*N_reg"
   ]
  },
  {
   "cell_type": "code",
   "execution_count": 52,
   "id": "aed96484",
   "metadata": {},
   "outputs": [],
   "source": [
    "#model machine learning\n",
    "\n",
    "Date_debut_test = '2020-06-01'    \n",
    "N_test = 14\n",
    "N_reg=1 #Nombre de jours auto-régressifs\n",
    "methode = 'deep_learning' #'machine_learning'\n",
    "nb_epochs = 10 # si methode = deep_learning, conseil 150\n",
    "batch_size = 2 # si methode = deep_learning, conseil 2\n",
    "\n"
   ]
  },
  {
   "cell_type": "markdown",
   "id": "b91d2e4f",
   "metadata": {},
   "source": [
    "### Choix du model"
   ]
  },
  {
   "cell_type": "markdown",
   "id": "3cd03669",
   "metadata": {},
   "source": [
    "#### Machine learning"
   ]
  },
  {
   "cell_type": "code",
   "execution_count": null,
   "id": "2b716551",
   "metadata": {},
   "outputs": [],
   "source": [
    "#model = LinearRegression() # -\n",
    "#model = DecisionTreeRegressor() ++\n",
    "#model = XGBRegressor() ++\n",
    "#model = RandomForestRegressor() ++\n",
    "#model = BaggingRegressor() # +++\n",
    "#model = AdaBoostRegressor() # ---\n",
    "#model = GradientBoostingRegressor() # o\n",
    "#model = KNeighborsRegressor() #-\n",
    "#model = StackingRegressor(estimators=[('lr', RidgeCV()),('svr', LinearSVR(random_state=42))],final_estimator=RandomForestRegressor()) # ----\n",
    "#model = SVR() # ---\n",
    "#model = SGDRegressor() -"
   ]
  },
  {
   "cell_type": "markdown",
   "id": "c0b99bc6",
   "metadata": {},
   "source": [
    "#### Deep learning"
   ]
  },
  {
   "cell_type": "code",
   "execution_count": 53,
   "id": "9b24fc9a",
   "metadata": {},
   "outputs": [],
   "source": [
    "model = Sequential()\n",
    "model.add(Dense(8, input_dim=N_reg+df.shape[1]-1, activation='relu')) #input_dim = nb_features dans X_train\n",
    "model.add(Dense(1))\n",
    "model.compile(loss='mean_absolute_error', optimizer='adam')"
   ]
  },
  {
   "cell_type": "markdown",
   "id": "8e912fcc",
   "metadata": {},
   "source": [
    "## Call of the forecast function"
   ]
  },
  {
   "cell_type": "code",
   "execution_count": 54,
   "id": "8780497d",
   "metadata": {},
   "outputs": [
    {
     "name": "stdout",
     "output_type": "stream",
     "text": [
      "Epoch 1/5\n",
      "1338/1338 [==============================] - 1s 906us/step - loss: 23155.8594\n",
      "Epoch 2/5\n",
      "1338/1338 [==============================] - 1s 870us/step - loss: 8087.0430\n",
      "Epoch 3/5\n",
      "1338/1338 [==============================] - 1s 877us/step - loss: 8033.5479\n",
      "Epoch 4/5\n",
      "1338/1338 [==============================] - 1s 871us/step - loss: 8066.2192\n",
      "Epoch 5/5\n",
      "1338/1338 [==============================] - 1s 869us/step - loss: 8085.0781\n"
     ]
    }
   ],
   "source": [
    "y_true, y_pred, y_train = compute_energy_forecast(df, Date_debut_test, N_reg, model, methode, nb_epochs, batch_size)"
   ]
  },
  {
   "cell_type": "code",
   "execution_count": 55,
   "id": "1bcdd3d8",
   "metadata": {},
   "outputs": [
    {
     "data": {
      "text/plain": [
       "Date\n",
       "2020-06-01    159017.406250\n",
       "2020-06-02    158695.843750\n",
       "2020-06-03    158377.156250\n",
       "2020-06-04    158070.218750\n",
       "2020-06-05    157732.546875\n",
       "2020-06-06    157394.984375\n",
       "2020-06-07    157066.765625\n",
       "2020-06-08    156741.000000\n",
       "2020-06-09    156421.625000\n",
       "2020-06-10    156102.687500\n",
       "2020-06-11    155777.265625\n",
       "2020-06-12    155448.625000\n",
       "2020-06-13    155124.937500\n",
       "2020-06-14    154795.984375\n",
       "dtype: float32"
      ]
     },
     "execution_count": 55,
     "metadata": {},
     "output_type": "execute_result"
    }
   ],
   "source": [
    "y_pred[:]"
   ]
  },
  {
   "cell_type": "markdown",
   "id": "576c4772",
   "metadata": {},
   "source": [
    "## Display results for a model"
   ]
  },
  {
   "cell_type": "code",
   "execution_count": 56,
   "id": "f977965b",
   "metadata": {},
   "outputs": [
    {
     "name": "stdout",
     "output_type": "stream",
     "text": [
      "MAPE_MODEL = 0.09195921956766753, MAPE_baseline = 0.077903780500722\n"
     ]
    },
    {
     "data": {
      "image/png": "[encoded data removed]",
      "text/plain": [
       "<Figure size 1080x792 with 1 Axes>"
      ]
     },
     "metadata": {
      "needs_background": "light"
     },
     "output_type": "display_data"
    }
   ],
   "source": [
    "plt.figure(figsize=(15,11))\n",
    "y_pred.plot(color = 'green')\n",
    "#y_train.plot(color = 'blue')\n",
    "y_true.plot(color = 'red')\n",
    "\n",
    "MAPE_MODEL = mean_absolute_percentage_error(y_true, y_pred) # MAE en pourcentage \n",
    "y_baseline = np.ones(N_test)*y_train[-1]\n",
    "MAPE_baseline = mean_absolute_percentage_error(y_true, y_baseline) # MAE en pourcentage\n",
    "print(f'MAPE_MODEL = {MAPE_MODEL}, MAPE_baseline = {MAPE_baseline}')"
   ]
  },
  {
   "cell_type": "markdown",
   "id": "838ea369",
   "metadata": {},
   "source": [
    "## Cross-validation to select the best model"
   ]
  },
  {
   "cell_type": "code",
   "execution_count": 14,
   "id": "8f7c8693",
   "metadata": {},
   "outputs": [],
   "source": [
    "model = RandomForestRegressor() #0.033\n",
    "#model = GradientBoostingRegressor() #0.033\n",
    "#model = BaggingRegressor() #0.035\n",
    "#model = XGBRegressor() #0.035\n",
    "#model = KNeighborsRegressor() #0.036\n",
    "#model = DecisionTreeRegressor() #0.046\n",
    "#model = AdaBoostRegressor() #0.050\n",
    "#model = LinearRegression() #0.060\n",
    "#model = SGDRegressor() #0.059\n",
    "# model = baseline #0.066\n",
    "#model = StackingRegressor(estimators=[('lr', RidgeCV()),('svr', LinearSVR(random_state=42))],final_estimator=RandomForestRegressor()) #0.121\n",
    "#model = SVR() #0.133\n",
    "\n",
    "\n",
    "N_test = 14\n",
    "N_reg=1 #Nombre de jours auto-régressifs\n",
    "\n",
    "dict_result_model=dict()\n",
    "dict_result_baseline=dict()\n",
    "\n",
    "for i in range(0,20):\n",
    "    Date_debut_test = pd.to_datetime('2020-06-01') + timedelta(days=15)*i\n",
    "    y_true, y_pred, y_train = compute_energy_forecast(df, Date_debut_test, N_reg,model)\n",
    "    y_baseline = np.ones(N_test)*y_train[-1]\n",
    "    dict_result_model[i] = mean_absolute_percentage_error(y_true, y_pred)\n",
    "    dict_result_baseline[i] = mean_absolute_percentage_error(y_true, y_baseline)"
   ]
  },
  {
   "cell_type": "code",
   "execution_count": 15,
   "id": "b96453df",
   "metadata": {},
   "outputs": [
    {
     "data": {
      "text/plain": [
       "0.0590144190511784"
      ]
     },
     "execution_count": 15,
     "metadata": {},
     "output_type": "execute_result"
    }
   ],
   "source": [
    "mean = 0\n",
    "i=0\n",
    "for value in dict_result_model.values():\n",
    "    i=i+1\n",
    "    mean = mean +value\n",
    "mean = mean/i\n",
    "mean"
   ]
  },
  {
   "cell_type": "code",
   "execution_count": 16,
   "id": "3aab37a3",
   "metadata": {},
   "outputs": [
    {
     "data": {
      "text/plain": [
       "0.06592970433391471"
      ]
     },
     "execution_count": 16,
     "metadata": {},
     "output_type": "execute_result"
    }
   ],
   "source": [
    "mean = 0\n",
    "i=0\n",
    "for value in dict_result_baseline.values():\n",
    "    i=i+1\n",
    "    mean = mean +value\n",
    "mean = mean/i\n",
    "mean"
   ]
  },
  {
   "cell_type": "code",
   "execution_count": null,
   "id": "773f440b",
   "metadata": {},
   "outputs": [],
   "source": []
  },
  {
   "cell_type": "code",
   "execution_count": null,
   "id": "6ff66460",
   "metadata": {},
   "outputs": [],
   "source": []
  }
 ],
 "metadata": {
  "kernelspec": {
   "display_name": "Python 3 (ipykernel)",
   "language": "python",
   "name": "python3"
  },
  "language_info": {
   "codemirror_mode": {
    "name": "ipython",
    "version": 3
   },
   "file_extension": ".py",
   "mimetype": "text/x-python",
   "name": "python",
   "nbconvert_exporter": "python",
   "pygments_lexer": "ipython3",
   "version": "3.9.7"
  },
  "toc": {
   "base_numbering": 1,
   "nav_menu": {},
   "number_sections": true,
   "sideBar": true,
   "skip_h1_title": false,
   "title_cell": "Table of Contents",
   "title_sidebar": "Contents",
   "toc_cell": false,
   "toc_position": {},
   "toc_section_display": true,
   "toc_window_display": false
  },
  "varInspector": {
   "cols": {
    "lenName": 16,
    "lenType": 16,
    "lenVar": 40
   },
   "kernels_config": {
    "python": {
     "delete_cmd_postfix": "",
     "delete_cmd_prefix": "del ",
     "library": "var_list.py",
     "varRefreshCmd": "print(var_dic_list())"
    },
    "r": {
     "delete_cmd_postfix": ") ",
     "delete_cmd_prefix": "rm(",
     "library": "var_list.r",
     "varRefreshCmd": "cat(var_dic_list()) "
    }
   },
   "types_to_exclude": [
    "module",
    "function",
    "builtin_function_or_method",
    "instance",
    "_Feature"
   ],
   "window_display": false
  }
 },
 "nbformat": 4,
 "nbformat_minor": 5
}
