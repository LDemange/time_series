{
 "cells": [
  {
   "cell_type": "code",
   "execution_count": 17,
   "id": "8da5d675",
   "metadata": {},
   "outputs": [],
   "source": [
    "import pandas as pd\n",
    "import numpy as np\n",
    "from sklearn.preprocessing import RobustScaler, OneHotEncoder, OrdinalEncoder\n",
    "from sklearn.linear_model import Ridge, Lasso, LinearRegression\n",
    "from sklearn.pipeline import Pipeline, make_pipeline\n",
    "from sklearn.impute import SimpleImputer, KNNImputer\n",
    "from sklearn.compose import ColumnTransformer, make_column_transformer, make_column_selector\n",
    "from sklearn.preprocessing import MinMaxScaler, StandardScaler\n",
    "from sklearn.ensemble import RandomForestRegressor\n",
    "from sklearn.model_selection import cross_validate\n",
    "from sklearn.metrics import mean_absolute_percentage_error\n",
    "from sklearn.model_selection import cross_val_score\n",
    "from sklearn.tree import DecisionTreeRegressor\n",
    "from xgboost import XGBRegressor\n",
    "import matplotlib.pyplot as plt\n",
    "pd.set_option(\"display.max_columns\", False)\n",
    "from sklearn.metrics import mean_absolute_percentage_error\n",
    "from datetime import date, timedelta, datetime\n",
    "from sklearn.metrics import r2_score"
   ]
  },
  {
   "cell_type": "markdown",
   "id": "5644ec2f",
   "metadata": {},
   "source": [
    "# Prepare dataset"
   ]
  },
  {
   "cell_type": "markdown",
   "id": "d15175ab",
   "metadata": {},
   "source": [
    "## Load data"
   ]
  },
  {
   "cell_type": "code",
   "execution_count": 18,
   "id": "77a17368",
   "metadata": {},
   "outputs": [],
   "source": [
    "df = pd.read_csv('data/data_preparation.csv', index_col=[0])\n",
    "df['Date']=pd.to_datetime(df['Date'])\n",
    "df.set_index('Date',inplace=True)"
   ]
  },
  {
   "cell_type": "markdown",
   "id": "b3505014",
   "metadata": {},
   "source": [
    "## Input"
   ]
  },
  {
   "cell_type": "code",
   "execution_count": 19,
   "id": "abc1f8c8",
   "metadata": {},
   "outputs": [],
   "source": [
    "Date_debut_test = '2020-12-19'    # <= Inférieur ou Egal\n",
    "N_test = 14\n",
    "N_reg=1 #Nombre de jours auto-régressifs"
   ]
  },
  {
   "cell_type": "markdown",
   "id": "69f558fe",
   "metadata": {},
   "source": [
    "## Select data"
   ]
  },
  {
   "cell_type": "code",
   "execution_count": 20,
   "id": "6e354326",
   "metadata": {},
   "outputs": [
    {
     "data": {
      "text/plain": [
       "Timestamp('2021-01-01 00:00:00')"
      ]
     },
     "execution_count": 20,
     "metadata": {},
     "output_type": "execute_result"
    }
   ],
   "source": [
    "Date_debut_test = pd.to_datetime(Date_debut_test)\n",
    "Date_fin_test =  Date_debut_test + timedelta(days=N_test-1)\n",
    "Date_fin_test"
   ]
  },
  {
   "cell_type": "markdown",
   "id": "6cbb5932",
   "metadata": {},
   "source": [
    "### Check the inputs"
   ]
  },
  {
   "cell_type": "code",
   "execution_count": 21,
   "id": "fd600408",
   "metadata": {},
   "outputs": [],
   "source": [
    "if len(df.loc[df.index == Date_fin_test]) == 0:\n",
    "    date_max=pd.to_datetime('2022-05-14')-timedelta(days=N_test-1)\n",
    "    print(f'Veuillez saisir une date de début de test inférieure ou egale à : {str(date_max)}')\n",
    "    0/0\n",
    "\n",
    "if len(df.loc[df.index == Date_debut_test-timedelta(days=2*N_reg)]) == 0:\n",
    "    date_limite_deb=pd.to_datetime('2013-03-04')+timedelta(days=2*N_reg)\n",
    "    print(f'Veuillez saisir une date de début de test supérieure ou egale à : {str(date_limite_deb)}')\n",
    "    0/0"
   ]
  },
  {
   "cell_type": "markdown",
   "id": "ae164305",
   "metadata": {},
   "source": [
    "### Select relevant features"
   ]
  },
  {
   "cell_type": "code",
   "execution_count": 22,
   "id": "3ee225b3",
   "metadata": {},
   "outputs": [],
   "source": [
    "df.drop(columns=['t - 1', 't - 2', 't - 3', 't - 4', 't - 5',\n",
    "       't - 6', 't - 7', 't - 8', 't - 9', 't - 10', 't - 11', 't - 12',\n",
    "       't - 13', 't - 14', 't - 15', 't - 16', 't - 17', 't - 18', 't - 19',\n",
    "       't - 20', 't - 21', 't - 22', 't - 23', 't - 24', 't - 25', 't - 26',\n",
    "       't - 27', 't - 28', 't - 29', 't - 30','sin365_1', 'cos365_1', 'sin365_2', 'cos365_2',\n",
    "       'sin365_3', 'cos365_3','bank_holiday', 'school_holidays',\n",
    "       'season','Thermique (MW)', 'Nucléaire (MW)', 'Eolien (MW)', 'Solaire (MW)',\n",
    "       'Hydraulique (MW)', 'Pompage (MW)', 'Bioénergies (MW)',\n",
    "       'Ech. physiques (MW)', 'Stockage batterie', 'Déstockage batterie',\n",
    "       'Eolien terrestre', 'Eolien offshore', 'TCO Thermique (%)',\n",
    "       'TCH Thermique (%)', 'TCO Nucléaire (%)', 'TCH Nucléaire (%)',\n",
    "       'TCO Eolien (%)', 'TCH Eolien (%)', 'TCO Solaire (%)',\n",
    "       'TCH Solaire (%)', 'Column 30','Code INSEE région','sin_month', 'cos_month',\n",
    "        'num_day',\n",
    "        'YEAR', 'MONTH', 'DAY',\n",
    "        'T2MDEW', 'T2MWET', 'TS', 'T2M_RANGE',\n",
    "       'T2M_MAX', 'T2M_MIN','PS', 'QV2M','WS10M','WS50M','RH2M','week_day' #temoin\n",
    "        #'PRECTOTCORR' # PRECTOTCORR is bias-corrected total precipitation\n",
    "        #'sin_day','cos_day'\n",
    "                ],inplace=True)"
   ]
  },
  {
   "cell_type": "markdown",
   "id": "63380f93",
   "metadata": {},
   "source": [
    "### Look of the dataset"
   ]
  },
  {
   "cell_type": "code",
   "execution_count": 23,
   "id": "4de3a9fa",
   "metadata": {},
   "outputs": [
    {
     "data": {
      "text/html": [
       "<div>\n",
       "<style scoped>\n",
       "    .dataframe tbody tr th:only-of-type {\n",
       "        vertical-align: middle;\n",
       "    }\n",
       "\n",
       "    .dataframe tbody tr th {\n",
       "        vertical-align: top;\n",
       "    }\n",
       "\n",
       "    .dataframe thead th {\n",
       "        text-align: right;\n",
       "    }\n",
       "</style>\n",
       "<table border=\"1\" class=\"dataframe\">\n",
       "  <thead>\n",
       "    <tr style=\"text-align: right;\">\n",
       "      <th></th>\n",
       "      <th>Consommation (MW)</th>\n",
       "      <th>T2M</th>\n",
       "      <th>PRECTOTCORR</th>\n",
       "      <th>sin_day</th>\n",
       "      <th>cos_day</th>\n",
       "    </tr>\n",
       "    <tr>\n",
       "      <th>Date</th>\n",
       "      <th></th>\n",
       "      <th></th>\n",
       "      <th></th>\n",
       "      <th></th>\n",
       "      <th></th>\n",
       "    </tr>\n",
       "  </thead>\n",
       "  <tbody>\n",
       "    <tr>\n",
       "      <th>2013-02-02</th>\n",
       "      <td>262321.0</td>\n",
       "      <td>5.55</td>\n",
       "      <td>1.94</td>\n",
       "      <td>-0.974928</td>\n",
       "      <td>-0.222521</td>\n",
       "    </tr>\n",
       "    <tr>\n",
       "      <th>2013-02-03</th>\n",
       "      <td>273743.0</td>\n",
       "      <td>2.96</td>\n",
       "      <td>0.02</td>\n",
       "      <td>-0.781831</td>\n",
       "      <td>0.623490</td>\n",
       "    </tr>\n",
       "    <tr>\n",
       "      <th>2013-02-04</th>\n",
       "      <td>295369.0</td>\n",
       "      <td>4.67</td>\n",
       "      <td>0.00</td>\n",
       "      <td>0.000000</td>\n",
       "      <td>1.000000</td>\n",
       "    </tr>\n",
       "    <tr>\n",
       "      <th>2013-02-05</th>\n",
       "      <td>287424.0</td>\n",
       "      <td>6.65</td>\n",
       "      <td>0.19</td>\n",
       "      <td>0.781831</td>\n",
       "      <td>0.623490</td>\n",
       "    </tr>\n",
       "    <tr>\n",
       "      <th>2013-02-06</th>\n",
       "      <td>294084.0</td>\n",
       "      <td>2.71</td>\n",
       "      <td>0.10</td>\n",
       "      <td>0.974928</td>\n",
       "      <td>-0.222521</td>\n",
       "    </tr>\n",
       "  </tbody>\n",
       "</table>\n",
       "</div>"
      ],
      "text/plain": [
       "            Consommation (MW)   T2M  PRECTOTCORR   sin_day   cos_day\n",
       "Date                                                                \n",
       "2013-02-02           262321.0  5.55         1.94 -0.974928 -0.222521\n",
       "2013-02-03           273743.0  2.96         0.02 -0.781831  0.623490\n",
       "2013-02-04           295369.0  4.67         0.00  0.000000  1.000000\n",
       "2013-02-05           287424.0  6.65         0.19  0.781831  0.623490\n",
       "2013-02-06           294084.0  2.71         0.10  0.974928 -0.222521"
      ]
     },
     "execution_count": 23,
     "metadata": {},
     "output_type": "execute_result"
    }
   ],
   "source": [
    "df.head()"
   ]
  },
  {
   "cell_type": "markdown",
   "id": "ed2a342f",
   "metadata": {},
   "source": [
    "# Compute energy consumption"
   ]
  },
  {
   "cell_type": "code",
   "execution_count": 24,
   "id": "c47f1056",
   "metadata": {},
   "outputs": [],
   "source": [
    "N_data = len(df)"
   ]
  },
  {
   "cell_type": "code",
   "execution_count": 25,
   "id": "a6904f69",
   "metadata": {},
   "outputs": [],
   "source": [
    "N_train = int(N_data*0.85)"
   ]
  },
  {
   "cell_type": "code",
   "execution_count": 26,
   "id": "4b61d3c2",
   "metadata": {},
   "outputs": [
    {
     "data": {
      "text/plain": [
       "DatetimeIndex(['2020-12-19'], dtype='datetime64[ns]', name='Date', freq=None)"
      ]
     },
     "execution_count": 26,
     "metadata": {},
     "output_type": "execute_result"
    }
   ],
   "source": [
    "df.iloc[[N_train]].index #Ne pas faire démarer le test avant le 19 décembre 2020 pour ne ppas biaiser le résultat"
   ]
  },
  {
   "cell_type": "code",
   "execution_count": 27,
   "id": "311667ca",
   "metadata": {},
   "outputs": [],
   "source": [
    "#N_val = N_data - N_train\n",
    "df_train = df.iloc[0:N_train]\n",
    "y_train=df_train['Consommation (MW)']\n",
    "df_val = df.iloc[N_train:]\n",
    "y_val =df_val['Consommation (MW)']\n",
    "df_test = df.loc[(df.index >= Date_debut_test) & (df.index <= Date_fin_test)]\n",
    "y_true = df.loc[(df.index >= Date_debut_test) & (df.index <= Date_fin_test)]['Consommation (MW)']"
   ]
  },
  {
   "cell_type": "code",
   "execution_count": 28,
   "id": "3a39c840",
   "metadata": {},
   "outputs": [
    {
     "name": "stderr",
     "output_type": "stream",
     "text": [
      "/tmp/ipykernel_9003/226162997.py:6: SettingWithCopyWarning: \n",
      "A value is trying to be set on a copy of a slice from a DataFrame.\n",
      "Try using .loc[row_indexer,col_indexer] = value instead\n",
      "\n",
      "See the caveats in the documentation: https://pandas.pydata.org/pandas-docs/stable/user_guide/indexing.html#returning-a-view-versus-a-copy\n",
      "  df_val[f't - {i}'] = df_val['Consommation (MW)'].shift(i)\n"
     ]
    }
   ],
   "source": [
    "df_train = df_train.copy()\n",
    "df_test = df_test.copy()\n",
    "\n",
    "for i in range(1, N_reg+1):\n",
    "    df_train[f't - {i}'] = df_train['Consommation (MW)'].shift(i)\n",
    "    df_val[f't - {i}'] = df_val['Consommation (MW)'].shift(i)\n",
    "    df_test[f't - {i}'] = float('NaN')"
   ]
  },
  {
   "cell_type": "code",
   "execution_count": 29,
   "id": "36c94dfe",
   "metadata": {},
   "outputs": [
    {
     "name": "stdout",
     "output_type": "stream",
     "text": [
      "(2877,)\n",
      "(2877, 6)\n",
      "(14, 6)\n"
     ]
    }
   ],
   "source": [
    "print(y_train.shape)\n",
    "print(df_train.shape)\n",
    "print(df_test.shape)"
   ]
  },
  {
   "cell_type": "code",
   "execution_count": 30,
   "id": "ab224355",
   "metadata": {},
   "outputs": [
    {
     "data": {
      "text/html": [
       "<div>\n",
       "<style scoped>\n",
       "    .dataframe tbody tr th:only-of-type {\n",
       "        vertical-align: middle;\n",
       "    }\n",
       "\n",
       "    .dataframe tbody tr th {\n",
       "        vertical-align: top;\n",
       "    }\n",
       "\n",
       "    .dataframe thead th {\n",
       "        text-align: right;\n",
       "    }\n",
       "</style>\n",
       "<table border=\"1\" class=\"dataframe\">\n",
       "  <thead>\n",
       "    <tr style=\"text-align: right;\">\n",
       "      <th></th>\n",
       "      <th>Consommation (MW)</th>\n",
       "      <th>T2M</th>\n",
       "      <th>PRECTOTCORR</th>\n",
       "      <th>sin_day</th>\n",
       "      <th>cos_day</th>\n",
       "      <th>t - 1</th>\n",
       "    </tr>\n",
       "    <tr>\n",
       "      <th>Date</th>\n",
       "      <th></th>\n",
       "      <th></th>\n",
       "      <th></th>\n",
       "      <th></th>\n",
       "      <th></th>\n",
       "      <th></th>\n",
       "    </tr>\n",
       "  </thead>\n",
       "  <tbody>\n",
       "    <tr>\n",
       "      <th>2013-02-02</th>\n",
       "      <td>262321.0</td>\n",
       "      <td>5.55</td>\n",
       "      <td>1.94</td>\n",
       "      <td>-0.974928</td>\n",
       "      <td>-0.222521</td>\n",
       "      <td>NaN</td>\n",
       "    </tr>\n",
       "    <tr>\n",
       "      <th>2013-02-03</th>\n",
       "      <td>273743.0</td>\n",
       "      <td>2.96</td>\n",
       "      <td>0.02</td>\n",
       "      <td>-0.781831</td>\n",
       "      <td>0.623490</td>\n",
       "      <td>262321.0</td>\n",
       "    </tr>\n",
       "    <tr>\n",
       "      <th>2013-02-04</th>\n",
       "      <td>295369.0</td>\n",
       "      <td>4.67</td>\n",
       "      <td>0.00</td>\n",
       "      <td>0.000000</td>\n",
       "      <td>1.000000</td>\n",
       "      <td>273743.0</td>\n",
       "    </tr>\n",
       "    <tr>\n",
       "      <th>2013-02-05</th>\n",
       "      <td>287424.0</td>\n",
       "      <td>6.65</td>\n",
       "      <td>0.19</td>\n",
       "      <td>0.781831</td>\n",
       "      <td>0.623490</td>\n",
       "      <td>295369.0</td>\n",
       "    </tr>\n",
       "    <tr>\n",
       "      <th>2013-02-06</th>\n",
       "      <td>294084.0</td>\n",
       "      <td>2.71</td>\n",
       "      <td>0.10</td>\n",
       "      <td>0.974928</td>\n",
       "      <td>-0.222521</td>\n",
       "      <td>287424.0</td>\n",
       "    </tr>\n",
       "    <tr>\n",
       "      <th>...</th>\n",
       "      <td>...</td>\n",
       "      <td>...</td>\n",
       "      <td>...</td>\n",
       "      <td>...</td>\n",
       "      <td>...</td>\n",
       "      <td>...</td>\n",
       "    </tr>\n",
       "    <tr>\n",
       "      <th>2020-12-14</th>\n",
       "      <td>280457.0</td>\n",
       "      <td>7.81</td>\n",
       "      <td>0.41</td>\n",
       "      <td>0.000000</td>\n",
       "      <td>1.000000</td>\n",
       "      <td>228390.0</td>\n",
       "    </tr>\n",
       "    <tr>\n",
       "      <th>2020-12-15</th>\n",
       "      <td>267652.0</td>\n",
       "      <td>9.95</td>\n",
       "      <td>5.06</td>\n",
       "      <td>0.781831</td>\n",
       "      <td>0.623490</td>\n",
       "      <td>280457.0</td>\n",
       "    </tr>\n",
       "    <tr>\n",
       "      <th>2020-12-16</th>\n",
       "      <td>258794.0</td>\n",
       "      <td>9.98</td>\n",
       "      <td>0.59</td>\n",
       "      <td>0.974928</td>\n",
       "      <td>-0.222521</td>\n",
       "      <td>267652.0</td>\n",
       "    </tr>\n",
       "    <tr>\n",
       "      <th>2020-12-17</th>\n",
       "      <td>254969.0</td>\n",
       "      <td>10.23</td>\n",
       "      <td>2.89</td>\n",
       "      <td>0.433884</td>\n",
       "      <td>-0.900969</td>\n",
       "      <td>258794.0</td>\n",
       "    </tr>\n",
       "    <tr>\n",
       "      <th>2020-12-18</th>\n",
       "      <td>244619.0</td>\n",
       "      <td>9.90</td>\n",
       "      <td>2.08</td>\n",
       "      <td>-0.433884</td>\n",
       "      <td>-0.900969</td>\n",
       "      <td>254969.0</td>\n",
       "    </tr>\n",
       "  </tbody>\n",
       "</table>\n",
       "<p>2877 rows × 6 columns</p>\n",
       "</div>"
      ],
      "text/plain": [
       "            Consommation (MW)    T2M  PRECTOTCORR   sin_day   cos_day     t - 1\n",
       "Date                                                                           \n",
       "2013-02-02           262321.0   5.55         1.94 -0.974928 -0.222521       NaN\n",
       "2013-02-03           273743.0   2.96         0.02 -0.781831  0.623490  262321.0\n",
       "2013-02-04           295369.0   4.67         0.00  0.000000  1.000000  273743.0\n",
       "2013-02-05           287424.0   6.65         0.19  0.781831  0.623490  295369.0\n",
       "2013-02-06           294084.0   2.71         0.10  0.974928 -0.222521  287424.0\n",
       "...                       ...    ...          ...       ...       ...       ...\n",
       "2020-12-14           280457.0   7.81         0.41  0.000000  1.000000  228390.0\n",
       "2020-12-15           267652.0   9.95         5.06  0.781831  0.623490  280457.0\n",
       "2020-12-16           258794.0   9.98         0.59  0.974928 -0.222521  267652.0\n",
       "2020-12-17           254969.0  10.23         2.89  0.433884 -0.900969  258794.0\n",
       "2020-12-18           244619.0   9.90         2.08 -0.433884 -0.900969  254969.0\n",
       "\n",
       "[2877 rows x 6 columns]"
      ]
     },
     "execution_count": 30,
     "metadata": {},
     "output_type": "execute_result"
    }
   ],
   "source": [
    "df_train"
   ]
  },
  {
   "cell_type": "code",
   "execution_count": 31,
   "id": "c716aefb",
   "metadata": {},
   "outputs": [],
   "source": [
    "#df_test"
   ]
  },
  {
   "cell_type": "code",
   "execution_count": null,
   "id": "030cc4a6",
   "metadata": {},
   "outputs": [],
   "source": []
  },
  {
   "cell_type": "code",
   "execution_count": 32,
   "id": "9d6191a9",
   "metadata": {},
   "outputs": [],
   "source": [
    "X_train = df_train.drop(columns='Consommation (MW)')[N_reg:]\n",
    "y_train = df_train['Consommation (MW)'][N_reg:]\n",
    "X_val = df_val.drop(columns='Consommation (MW)')[N_reg:]\n",
    "y_val = df_val['Consommation (MW)'][N_reg:]"
   ]
  },
  {
   "cell_type": "code",
   "execution_count": 33,
   "id": "328d00ee",
   "metadata": {},
   "outputs": [
    {
     "data": {
      "text/html": [
       "<div>\n",
       "<style scoped>\n",
       "    .dataframe tbody tr th:only-of-type {\n",
       "        vertical-align: middle;\n",
       "    }\n",
       "\n",
       "    .dataframe tbody tr th {\n",
       "        vertical-align: top;\n",
       "    }\n",
       "\n",
       "    .dataframe thead th {\n",
       "        text-align: right;\n",
       "    }\n",
       "</style>\n",
       "<table border=\"1\" class=\"dataframe\">\n",
       "  <thead>\n",
       "    <tr style=\"text-align: right;\">\n",
       "      <th></th>\n",
       "      <th>T2M</th>\n",
       "      <th>PRECTOTCORR</th>\n",
       "      <th>sin_day</th>\n",
       "      <th>cos_day</th>\n",
       "      <th>t - 1</th>\n",
       "    </tr>\n",
       "    <tr>\n",
       "      <th>Date</th>\n",
       "      <th></th>\n",
       "      <th></th>\n",
       "      <th></th>\n",
       "      <th></th>\n",
       "      <th></th>\n",
       "    </tr>\n",
       "  </thead>\n",
       "  <tbody>\n",
       "    <tr>\n",
       "      <th>2013-02-03</th>\n",
       "      <td>2.96</td>\n",
       "      <td>0.02</td>\n",
       "      <td>-0.781831</td>\n",
       "      <td>0.623490</td>\n",
       "      <td>262321.0</td>\n",
       "    </tr>\n",
       "    <tr>\n",
       "      <th>2013-02-04</th>\n",
       "      <td>4.67</td>\n",
       "      <td>0.00</td>\n",
       "      <td>0.000000</td>\n",
       "      <td>1.000000</td>\n",
       "      <td>273743.0</td>\n",
       "    </tr>\n",
       "    <tr>\n",
       "      <th>2013-02-05</th>\n",
       "      <td>6.65</td>\n",
       "      <td>0.19</td>\n",
       "      <td>0.781831</td>\n",
       "      <td>0.623490</td>\n",
       "      <td>295369.0</td>\n",
       "    </tr>\n",
       "    <tr>\n",
       "      <th>2013-02-06</th>\n",
       "      <td>2.71</td>\n",
       "      <td>0.10</td>\n",
       "      <td>0.974928</td>\n",
       "      <td>-0.222521</td>\n",
       "      <td>287424.0</td>\n",
       "    </tr>\n",
       "    <tr>\n",
       "      <th>2013-02-07</th>\n",
       "      <td>2.09</td>\n",
       "      <td>0.03</td>\n",
       "      <td>0.433884</td>\n",
       "      <td>-0.900969</td>\n",
       "      <td>294084.0</td>\n",
       "    </tr>\n",
       "    <tr>\n",
       "      <th>...</th>\n",
       "      <td>...</td>\n",
       "      <td>...</td>\n",
       "      <td>...</td>\n",
       "      <td>...</td>\n",
       "      <td>...</td>\n",
       "    </tr>\n",
       "    <tr>\n",
       "      <th>2020-12-14</th>\n",
       "      <td>7.81</td>\n",
       "      <td>0.41</td>\n",
       "      <td>0.000000</td>\n",
       "      <td>1.000000</td>\n",
       "      <td>228390.0</td>\n",
       "    </tr>\n",
       "    <tr>\n",
       "      <th>2020-12-15</th>\n",
       "      <td>9.95</td>\n",
       "      <td>5.06</td>\n",
       "      <td>0.781831</td>\n",
       "      <td>0.623490</td>\n",
       "      <td>280457.0</td>\n",
       "    </tr>\n",
       "    <tr>\n",
       "      <th>2020-12-16</th>\n",
       "      <td>9.98</td>\n",
       "      <td>0.59</td>\n",
       "      <td>0.974928</td>\n",
       "      <td>-0.222521</td>\n",
       "      <td>267652.0</td>\n",
       "    </tr>\n",
       "    <tr>\n",
       "      <th>2020-12-17</th>\n",
       "      <td>10.23</td>\n",
       "      <td>2.89</td>\n",
       "      <td>0.433884</td>\n",
       "      <td>-0.900969</td>\n",
       "      <td>258794.0</td>\n",
       "    </tr>\n",
       "    <tr>\n",
       "      <th>2020-12-18</th>\n",
       "      <td>9.90</td>\n",
       "      <td>2.08</td>\n",
       "      <td>-0.433884</td>\n",
       "      <td>-0.900969</td>\n",
       "      <td>254969.0</td>\n",
       "    </tr>\n",
       "  </tbody>\n",
       "</table>\n",
       "<p>2876 rows × 5 columns</p>\n",
       "</div>"
      ],
      "text/plain": [
       "              T2M  PRECTOTCORR   sin_day   cos_day     t - 1\n",
       "Date                                                        \n",
       "2013-02-03   2.96         0.02 -0.781831  0.623490  262321.0\n",
       "2013-02-04   4.67         0.00  0.000000  1.000000  273743.0\n",
       "2013-02-05   6.65         0.19  0.781831  0.623490  295369.0\n",
       "2013-02-06   2.71         0.10  0.974928 -0.222521  287424.0\n",
       "2013-02-07   2.09         0.03  0.433884 -0.900969  294084.0\n",
       "...           ...          ...       ...       ...       ...\n",
       "2020-12-14   7.81         0.41  0.000000  1.000000  228390.0\n",
       "2020-12-15   9.95         5.06  0.781831  0.623490  280457.0\n",
       "2020-12-16   9.98         0.59  0.974928 -0.222521  267652.0\n",
       "2020-12-17  10.23         2.89  0.433884 -0.900969  258794.0\n",
       "2020-12-18   9.90         2.08 -0.433884 -0.900969  254969.0\n",
       "\n",
       "[2876 rows x 5 columns]"
      ]
     },
     "execution_count": 33,
     "metadata": {},
     "output_type": "execute_result"
    }
   ],
   "source": [
    "X_train"
   ]
  },
  {
   "cell_type": "code",
   "execution_count": 34,
   "id": "29f8eeef",
   "metadata": {},
   "outputs": [
    {
     "name": "stdout",
     "output_type": "stream",
     "text": [
      "(2876, 5)\n",
      "(2876,)\n"
     ]
    }
   ],
   "source": [
    "print(X_train.shape)\n",
    "print(y_train.shape)"
   ]
  },
  {
   "cell_type": "code",
   "execution_count": 35,
   "id": "e9589e38",
   "metadata": {},
   "outputs": [],
   "source": [
    "#model = LinearRegression() # -\n",
    "#model = DecisionTreeRegressor() ++\n",
    "model = XGBRegressor() ++\n",
    "#model = RandomForestRegressor() ++\n",
    "#model = BaggingRegressor() # +++\n",
    "#model = AdaBoostRegressor() # ---\n",
    "#model = GradientBoostingRegressor() # o\n",
    "#model = KNeighborsRegressor() #-\n",
    "#model = StackingRegressor(estimators=[('lr', RidgeCV()),('svr', LinearSVR(random_state=42))],final_estimator=RandomForestRegressor()) # ----\n",
    "#model = SVR() # ---\n",
    "#model = SGDRegressor() -\n",
    "#model = LinearRegression()\n",
    "pipe = make_pipeline(StandardScaler(), model)\n",
    "model = pipe.fit(X_train, y_train)"
   ]
  },
  {
   "cell_type": "code",
   "execution_count": 36,
   "id": "3b900dfa",
   "metadata": {},
   "outputs": [],
   "source": [
    "v_reg = pd.DataFrame(index=['0'])\n",
    "y_pred=[]\n",
    "\n",
    "for i in range(0,N_test):\n",
    "    X_test=df_test.iloc[[i]].drop(columns='Consommation (MW)')\n",
    "    if i==0:\n",
    "        for j in range(1, N_reg+1):\n",
    "            v_reg[f't - {j}'] = df_train['Consommation (MW)'][-j]\n",
    "    for j in range(1, N_reg+1):\n",
    "        X_test[f't - {j}'] = v_reg[f't - {j}'][0]\n",
    "    out=model.predict(X_test)\n",
    "    y_pred.append(out[0])\n",
    "    v_reg=v_reg.shift(1,axis=1)\n",
    "    v_reg.iloc[0,0]=out[0]\n",
    "    \n",
    "y_pred=pd.Series(y_pred,index=y_true.index)"
   ]
  },
  {
   "cell_type": "code",
   "execution_count": 37,
   "id": "54921673",
   "metadata": {},
   "outputs": [
    {
     "data": {
      "text/plain": [
       "(14,)"
      ]
     },
     "execution_count": 37,
     "metadata": {},
     "output_type": "execute_result"
    }
   ],
   "source": [
    "y_true.shape"
   ]
  },
  {
   "cell_type": "code",
   "execution_count": 38,
   "id": "f977965b",
   "metadata": {},
   "outputs": [
    {
     "name": "stdout",
     "output_type": "stream",
     "text": [
      "MAPE_MODEL = 0.03044632973252077, MAPE_baseline = 0.08315562453350496\n"
     ]
    },
    {
     "data": {
      "image/png": "[encoded data removed]",
      "text/plain": [
       "<Figure size 1080x792 with 1 Axes>"
      ]
     },
     "metadata": {
      "needs_background": "light"
     },
     "output_type": "display_data"
    }
   ],
   "source": [
    "plt.figure(figsize=(15,11))\n",
    "y_pred.plot(color = 'green')\n",
    "#y_train.plot(color = 'blue')\n",
    "y_true.plot(color = 'red')\n",
    "\n",
    "MAPE_MODEL = mean_absolute_percentage_error(y_true, y_pred) # MAE en pourcentage \n",
    "y_baseline = np.ones(N_test)*y_train[-1]\n",
    "MAPE_baseline = mean_absolute_percentage_error(y_true, y_baseline) # MAE en pourcentage\n",
    "print(f'MAPE_MODEL = {MAPE_MODEL}, MAPE_baseline = {MAPE_baseline}')"
   ]
  },
  {
   "cell_type": "code",
   "execution_count": null,
   "id": "541510cb",
   "metadata": {},
   "outputs": [],
   "source": []
  }
 ],
 "metadata": {
  "kernelspec": {
   "display_name": "Python 3 (ipykernel)",
   "language": "python",
   "name": "python3"
  },
  "language_info": {
   "codemirror_mode": {
    "name": "ipython",
    "version": 3
   },
   "file_extension": ".py",
   "mimetype": "text/x-python",
   "name": "python",
   "nbconvert_exporter": "python",
   "pygments_lexer": "ipython3",
   "version": "3.9.7"
  },
  "toc": {
   "base_numbering": 1,
   "nav_menu": {},
   "number_sections": true,
   "sideBar": true,
   "skip_h1_title": false,
   "title_cell": "Table of Contents",
   "title_sidebar": "Contents",
   "toc_cell": false,
   "toc_position": {},
   "toc_section_display": true,
   "toc_window_display": false
  },
  "varInspector": {
   "cols": {
    "lenName": 16,
    "lenType": 16,
    "lenVar": 40
   },
   "kernels_config": {
    "python": {
     "delete_cmd_postfix": "",
     "delete_cmd_prefix": "del ",
     "library": "var_list.py",
     "varRefreshCmd": "print(var_dic_list())"
    },
    "r": {
     "delete_cmd_postfix": ") ",
     "delete_cmd_prefix": "rm(",
     "library": "var_list.r",
     "varRefreshCmd": "cat(var_dic_list()) "
    }
   },
   "types_to_exclude": [
    "module",
    "function",
    "builtin_function_or_method",
    "instance",
    "_Feature"
   ],
   "window_display": false
  }
 },
 "nbformat": 4,
 "nbformat_minor": 5
}
