{
 "cells": [
  {
   "cell_type": "code",
   "execution_count": 2,
   "id": "9368591f",
   "metadata": {},
   "outputs": [
    {
     "name": "stderr",
     "output_type": "stream",
     "text": [
      "2022-09-15 23:27:07.403687: W tensorflow/stream_executor/platform/default/dso_loader.cc:64] Could not load dynamic library 'libcudart.so.11.0'; dlerror: libcudart.so.11.0: cannot open shared object file: No such file or directory\n",
      "2022-09-15 23:27:07.403710: I tensorflow/stream_executor/cuda/cudart_stub.cc:29] Ignore above cudart dlerror if you do not have a GPU set up on your machine.\n",
      "/home/demange/.pyenv/versions/lewagon/lib/python3.9/site-packages/gluonts/json.py:101: UserWarning: Using `json`-module for json-handling. Consider installing one of `orjson`, `ujson` to speed up serialization and deserialization.\n",
      "  warnings.warn(\n"
     ]
    }
   ],
   "source": [
    "import pandas as pd\n",
    "import numpy as np\n",
    "from sklearn.preprocessing import RobustScaler, OneHotEncoder, OrdinalEncoder\n",
    "from sklearn.linear_model import Ridge, Lasso, LinearRegression\n",
    "from sklearn.pipeline import Pipeline, make_pipeline\n",
    "from sklearn.impute import SimpleImputer, KNNImputer\n",
    "from sklearn.compose import ColumnTransformer, make_column_transformer, make_column_selector\n",
    "from sklearn.preprocessing import MinMaxScaler, StandardScaler\n",
    "from sklearn.model_selection import cross_validate\n",
    "from sklearn.metrics import mean_absolute_percentage_error\n",
    "from sklearn.model_selection import cross_val_score\n",
    "from tensorflow.keras import Sequential, layers\n",
    "import matplotlib.pyplot as plt\n",
    "pd.set_option(\"display.max_columns\", False)\n",
    "from sklearn.metrics import mean_absolute_percentage_error\n",
    "from datetime import date, timedelta, datetime\n",
    "from sklearn.metrics import r2_score\n",
    "from tensorflow.keras.optimizers import Adam\n",
    "######################################################\n",
    "from gluonts.dataset.util import to_pandas\n",
    "from gluonts.dataset.pandas import PandasDataset\n",
    "from gluonts.dataset.repository.datasets import get_dataset\n",
    "from gluonts.model.deepar import DeepAREstimator\n",
    "from gluonts.mx import Trainer\n",
    "from gluonts.evaluation import make_evaluation_predictions\n",
    "import matplotlib.pyplot as plt"
   ]
  },
  {
   "cell_type": "markdown",
   "id": "56bbf9b5",
   "metadata": {},
   "source": [
    "# Prepare dataset"
   ]
  },
  {
   "cell_type": "markdown",
   "id": "b67af6fc",
   "metadata": {},
   "source": [
    "## Load data"
   ]
  },
  {
   "cell_type": "code",
   "execution_count": 3,
   "id": "7b279828",
   "metadata": {},
   "outputs": [],
   "source": [
    "df = pd.read_csv('../data/data_preparation.csv', index_col=[0])\n",
    "df=df.iloc[:-60]"
   ]
  },
  {
   "cell_type": "markdown",
   "id": "407c2a98",
   "metadata": {},
   "source": [
    "## Fill missing data"
   ]
  },
  {
   "cell_type": "code",
   "execution_count": 4,
   "id": "fdf2aa8f",
   "metadata": {},
   "outputs": [],
   "source": [
    "def replace_val(df,date1,date2): #on remplace les NaN dans l intervalle de date\n",
    "    for col in df.columns:\n",
    "        imputer = KNNImputer(n_neighbors=7) # Instantiate a SimpleImputer object with your strategy of choice\n",
    "        imputer.fit(df[[col]]) # Call the \"fit\" method on the object\n",
    "        df[col] = imputer.transform(df[[col]]) # Call the \"transform\" method on the object"
   ]
  },
  {
   "cell_type": "code",
   "execution_count": 5,
   "id": "a0b59e2f",
   "metadata": {},
   "outputs": [],
   "source": [
    "df['Date']=pd.to_datetime(df['Date'], errors='coerce')\n",
    "df = df.set_index('Date').asfreq('D')\n",
    "replace_val(df,'2022-04-30','2022-05-06')"
   ]
  },
  {
   "cell_type": "markdown",
   "id": "fdb18606",
   "metadata": {},
   "source": [
    "### Select relevant features"
   ]
  },
  {
   "cell_type": "code",
   "execution_count": 6,
   "id": "4f16686f",
   "metadata": {},
   "outputs": [],
   "source": [
    "df.drop(columns=['t - 1', 't - 2', 't - 3', 't - 4', 't - 5',\n",
    "       't - 6', 't - 7', 't - 8', 't - 9', 't - 10', 't - 11', 't - 12',\n",
    "       't - 13', 't - 14', 't - 15', 't - 16', 't - 17', 't - 18', 't - 19',\n",
    "       't - 20', 't - 21', 't - 22', 't - 23', 't - 24', 't - 25', 't - 26',\n",
    "       't - 27', 't - 28', 't - 29', 't - 30','sin365_1', 'cos365_1', 'sin365_2', 'cos365_2',\n",
    "       'sin365_3', 'cos365_3','bank_holiday', 'school_holidays',\n",
    "       'season','Thermique (MW)', 'Nucléaire (MW)', 'Eolien (MW)', 'Solaire (MW)',\n",
    "       'Hydraulique (MW)', 'Pompage (MW)', 'Bioénergies (MW)',\n",
    "       'Ech. physiques (MW)', 'Stockage batterie', 'Déstockage batterie',\n",
    "       'Eolien terrestre', 'Eolien offshore', 'TCO Thermique (%)',\n",
    "       'TCH Thermique (%)', 'TCO Nucléaire (%)', 'TCH Nucléaire (%)',\n",
    "       'TCO Eolien (%)', 'TCH Eolien (%)', 'TCO Solaire (%)',\n",
    "       'TCH Solaire (%)', 'Column 30','Code INSEE région','sin_month', 'cos_month',\n",
    "        'num_day',\n",
    "        'YEAR', 'MONTH', 'DAY',\n",
    "        'T2MDEW', 'T2MWET', 'TS', 'T2M_RANGE',\n",
    "       'T2M_MAX', 'T2M_MIN','PS', 'QV2M','WS10M','WS50M','RH2M','week_day' #temoin\n",
    "        #'PRECTOTCORR' # PRECTOTCORR is bias-corrected total precipitation\n",
    "        #'sin_day','cos_day'\n",
    "                ],inplace=True)"
   ]
  },
  {
   "cell_type": "code",
   "execution_count": 7,
   "id": "0e8a21c0",
   "metadata": {},
   "outputs": [],
   "source": [
    "df['id']='A'"
   ]
  },
  {
   "cell_type": "code",
   "execution_count": 8,
   "id": "312f4908",
   "metadata": {},
   "outputs": [
    {
     "data": {
      "text/html": [
       "<div>\n",
       "<style scoped>\n",
       "    .dataframe tbody tr th:only-of-type {\n",
       "        vertical-align: middle;\n",
       "    }\n",
       "\n",
       "    .dataframe tbody tr th {\n",
       "        vertical-align: top;\n",
       "    }\n",
       "\n",
       "    .dataframe thead th {\n",
       "        text-align: right;\n",
       "    }\n",
       "</style>\n",
       "<table border=\"1\" class=\"dataframe\">\n",
       "  <thead>\n",
       "    <tr style=\"text-align: right;\">\n",
       "      <th></th>\n",
       "      <th>Consommation (MW)</th>\n",
       "      <th>T2M</th>\n",
       "      <th>PRECTOTCORR</th>\n",
       "      <th>sin_day</th>\n",
       "      <th>cos_day</th>\n",
       "      <th>id</th>\n",
       "    </tr>\n",
       "    <tr>\n",
       "      <th>Date</th>\n",
       "      <th></th>\n",
       "      <th></th>\n",
       "      <th></th>\n",
       "      <th></th>\n",
       "      <th></th>\n",
       "      <th></th>\n",
       "    </tr>\n",
       "  </thead>\n",
       "  <tbody>\n",
       "    <tr>\n",
       "      <th>2013-02-02</th>\n",
       "      <td>262321.0</td>\n",
       "      <td>5.55</td>\n",
       "      <td>1.94</td>\n",
       "      <td>-0.974928</td>\n",
       "      <td>-0.222521</td>\n",
       "      <td>A</td>\n",
       "    </tr>\n",
       "    <tr>\n",
       "      <th>2013-02-03</th>\n",
       "      <td>273743.0</td>\n",
       "      <td>2.96</td>\n",
       "      <td>0.02</td>\n",
       "      <td>-0.781831</td>\n",
       "      <td>0.623490</td>\n",
       "      <td>A</td>\n",
       "    </tr>\n",
       "    <tr>\n",
       "      <th>2013-02-04</th>\n",
       "      <td>295369.0</td>\n",
       "      <td>4.67</td>\n",
       "      <td>0.00</td>\n",
       "      <td>0.000000</td>\n",
       "      <td>1.000000</td>\n",
       "      <td>A</td>\n",
       "    </tr>\n",
       "    <tr>\n",
       "      <th>2013-02-05</th>\n",
       "      <td>287424.0</td>\n",
       "      <td>6.65</td>\n",
       "      <td>0.19</td>\n",
       "      <td>0.781831</td>\n",
       "      <td>0.623490</td>\n",
       "      <td>A</td>\n",
       "    </tr>\n",
       "    <tr>\n",
       "      <th>2013-02-06</th>\n",
       "      <td>294084.0</td>\n",
       "      <td>2.71</td>\n",
       "      <td>0.10</td>\n",
       "      <td>0.974928</td>\n",
       "      <td>-0.222521</td>\n",
       "      <td>A</td>\n",
       "    </tr>\n",
       "    <tr>\n",
       "      <th>...</th>\n",
       "      <td>...</td>\n",
       "      <td>...</td>\n",
       "      <td>...</td>\n",
       "      <td>...</td>\n",
       "      <td>...</td>\n",
       "      <td>...</td>\n",
       "    </tr>\n",
       "    <tr>\n",
       "      <th>2022-03-07</th>\n",
       "      <td>273204.0</td>\n",
       "      <td>5.98</td>\n",
       "      <td>0.36</td>\n",
       "      <td>0.000000</td>\n",
       "      <td>1.000000</td>\n",
       "      <td>A</td>\n",
       "    </tr>\n",
       "    <tr>\n",
       "      <th>2022-03-08</th>\n",
       "      <td>280638.0</td>\n",
       "      <td>5.10</td>\n",
       "      <td>0.83</td>\n",
       "      <td>0.781831</td>\n",
       "      <td>0.623490</td>\n",
       "      <td>A</td>\n",
       "    </tr>\n",
       "    <tr>\n",
       "      <th>2022-03-09</th>\n",
       "      <td>270148.0</td>\n",
       "      <td>6.59</td>\n",
       "      <td>0.11</td>\n",
       "      <td>0.974928</td>\n",
       "      <td>-0.222521</td>\n",
       "      <td>A</td>\n",
       "    </tr>\n",
       "    <tr>\n",
       "      <th>2022-03-10</th>\n",
       "      <td>269684.0</td>\n",
       "      <td>7.48</td>\n",
       "      <td>0.64</td>\n",
       "      <td>0.433884</td>\n",
       "      <td>-0.900969</td>\n",
       "      <td>A</td>\n",
       "    </tr>\n",
       "    <tr>\n",
       "      <th>2022-03-11</th>\n",
       "      <td>264874.0</td>\n",
       "      <td>9.23</td>\n",
       "      <td>1.26</td>\n",
       "      <td>-0.433884</td>\n",
       "      <td>-0.900969</td>\n",
       "      <td>A</td>\n",
       "    </tr>\n",
       "  </tbody>\n",
       "</table>\n",
       "<p>3325 rows × 6 columns</p>\n",
       "</div>"
      ],
      "text/plain": [
       "            Consommation (MW)   T2M  PRECTOTCORR   sin_day   cos_day id\n",
       "Date                                                                   \n",
       "2013-02-02           262321.0  5.55         1.94 -0.974928 -0.222521  A\n",
       "2013-02-03           273743.0  2.96         0.02 -0.781831  0.623490  A\n",
       "2013-02-04           295369.0  4.67         0.00  0.000000  1.000000  A\n",
       "2013-02-05           287424.0  6.65         0.19  0.781831  0.623490  A\n",
       "2013-02-06           294084.0  2.71         0.10  0.974928 -0.222521  A\n",
       "...                       ...   ...          ...       ...       ... ..\n",
       "2022-03-07           273204.0  5.98         0.36  0.000000  1.000000  A\n",
       "2022-03-08           280638.0  5.10         0.83  0.781831  0.623490  A\n",
       "2022-03-09           270148.0  6.59         0.11  0.974928 -0.222521  A\n",
       "2022-03-10           269684.0  7.48         0.64  0.433884 -0.900969  A\n",
       "2022-03-11           264874.0  9.23         1.26 -0.433884 -0.900969  A\n",
       "\n",
       "[3325 rows x 6 columns]"
      ]
     },
     "execution_count": 8,
     "metadata": {},
     "output_type": "execute_result"
    }
   ],
   "source": [
    "df"
   ]
  },
  {
   "cell_type": "code",
   "execution_count": 9,
   "id": "088fe754",
   "metadata": {},
   "outputs": [],
   "source": [
    "nb_data_train = int(len(df)*0.6)\n",
    "nb_data_val = int(len(df)*0.2)"
   ]
  },
  {
   "cell_type": "code",
   "execution_count": 10,
   "id": "1722829f",
   "metadata": {},
   "outputs": [],
   "source": [
    "N_test = 14 #on prédit les 14 derniers jours dans chaque dataframe"
   ]
  },
  {
   "cell_type": "code",
   "execution_count": 11,
   "id": "ce929f23",
   "metadata": {},
   "outputs": [],
   "source": [
    "df_train=df.iloc[:nb_data_train]"
   ]
  },
  {
   "cell_type": "code",
   "execution_count": 12,
   "id": "fc06a5f0",
   "metadata": {},
   "outputs": [],
   "source": [
    "df_test=df.iloc[-N_test:]"
   ]
  },
  {
   "cell_type": "code",
   "execution_count": 13,
   "id": "b570c22a",
   "metadata": {},
   "outputs": [],
   "source": [
    "df_val = df[nb_data_train:nb_data_train+nb_data_val]"
   ]
  },
  {
   "cell_type": "code",
   "execution_count": 14,
   "id": "4c569c4c",
   "metadata": {},
   "outputs": [
    {
     "data": {
      "text/html": [
       "<div>\n",
       "<style scoped>\n",
       "    .dataframe tbody tr th:only-of-type {\n",
       "        vertical-align: middle;\n",
       "    }\n",
       "\n",
       "    .dataframe tbody tr th {\n",
       "        vertical-align: top;\n",
       "    }\n",
       "\n",
       "    .dataframe thead th {\n",
       "        text-align: right;\n",
       "    }\n",
       "</style>\n",
       "<table border=\"1\" class=\"dataframe\">\n",
       "  <thead>\n",
       "    <tr style=\"text-align: right;\">\n",
       "      <th></th>\n",
       "      <th>Consommation (MW)</th>\n",
       "      <th>T2M</th>\n",
       "      <th>PRECTOTCORR</th>\n",
       "      <th>sin_day</th>\n",
       "      <th>cos_day</th>\n",
       "      <th>id</th>\n",
       "    </tr>\n",
       "    <tr>\n",
       "      <th>Date</th>\n",
       "      <th></th>\n",
       "      <th></th>\n",
       "      <th></th>\n",
       "      <th></th>\n",
       "      <th></th>\n",
       "      <th></th>\n",
       "    </tr>\n",
       "  </thead>\n",
       "  <tbody>\n",
       "    <tr>\n",
       "      <th>2013-02-02</th>\n",
       "      <td>262321.0</td>\n",
       "      <td>5.55</td>\n",
       "      <td>1.94</td>\n",
       "      <td>-0.974928</td>\n",
       "      <td>-0.222521</td>\n",
       "      <td>A</td>\n",
       "    </tr>\n",
       "    <tr>\n",
       "      <th>2013-02-03</th>\n",
       "      <td>273743.0</td>\n",
       "      <td>2.96</td>\n",
       "      <td>0.02</td>\n",
       "      <td>-0.781831</td>\n",
       "      <td>0.623490</td>\n",
       "      <td>A</td>\n",
       "    </tr>\n",
       "    <tr>\n",
       "      <th>2013-02-04</th>\n",
       "      <td>295369.0</td>\n",
       "      <td>4.67</td>\n",
       "      <td>0.00</td>\n",
       "      <td>0.000000</td>\n",
       "      <td>1.000000</td>\n",
       "      <td>A</td>\n",
       "    </tr>\n",
       "    <tr>\n",
       "      <th>2013-02-05</th>\n",
       "      <td>287424.0</td>\n",
       "      <td>6.65</td>\n",
       "      <td>0.19</td>\n",
       "      <td>0.781831</td>\n",
       "      <td>0.623490</td>\n",
       "      <td>A</td>\n",
       "    </tr>\n",
       "    <tr>\n",
       "      <th>2013-02-06</th>\n",
       "      <td>294084.0</td>\n",
       "      <td>2.71</td>\n",
       "      <td>0.10</td>\n",
       "      <td>0.974928</td>\n",
       "      <td>-0.222521</td>\n",
       "      <td>A</td>\n",
       "    </tr>\n",
       "    <tr>\n",
       "      <th>...</th>\n",
       "      <td>...</td>\n",
       "      <td>...</td>\n",
       "      <td>...</td>\n",
       "      <td>...</td>\n",
       "      <td>...</td>\n",
       "      <td>...</td>\n",
       "    </tr>\n",
       "    <tr>\n",
       "      <th>2018-07-16</th>\n",
       "      <td>200204.0</td>\n",
       "      <td>23.23</td>\n",
       "      <td>8.66</td>\n",
       "      <td>0.000000</td>\n",
       "      <td>1.000000</td>\n",
       "      <td>A</td>\n",
       "    </tr>\n",
       "    <tr>\n",
       "      <th>2018-07-17</th>\n",
       "      <td>200997.0</td>\n",
       "      <td>25.79</td>\n",
       "      <td>0.00</td>\n",
       "      <td>0.781831</td>\n",
       "      <td>0.623490</td>\n",
       "      <td>A</td>\n",
       "    </tr>\n",
       "    <tr>\n",
       "      <th>2018-07-18</th>\n",
       "      <td>206508.0</td>\n",
       "      <td>26.06</td>\n",
       "      <td>0.00</td>\n",
       "      <td>0.974928</td>\n",
       "      <td>-0.222521</td>\n",
       "      <td>A</td>\n",
       "    </tr>\n",
       "    <tr>\n",
       "      <th>2018-07-19</th>\n",
       "      <td>207337.0</td>\n",
       "      <td>26.34</td>\n",
       "      <td>0.01</td>\n",
       "      <td>0.433884</td>\n",
       "      <td>-0.900969</td>\n",
       "      <td>A</td>\n",
       "    </tr>\n",
       "    <tr>\n",
       "      <th>2018-07-20</th>\n",
       "      <td>210472.0</td>\n",
       "      <td>26.12</td>\n",
       "      <td>0.66</td>\n",
       "      <td>-0.433884</td>\n",
       "      <td>-0.900969</td>\n",
       "      <td>A</td>\n",
       "    </tr>\n",
       "  </tbody>\n",
       "</table>\n",
       "<p>1995 rows × 6 columns</p>\n",
       "</div>"
      ],
      "text/plain": [
       "            Consommation (MW)    T2M  PRECTOTCORR   sin_day   cos_day id\n",
       "Date                                                                    \n",
       "2013-02-02           262321.0   5.55         1.94 -0.974928 -0.222521  A\n",
       "2013-02-03           273743.0   2.96         0.02 -0.781831  0.623490  A\n",
       "2013-02-04           295369.0   4.67         0.00  0.000000  1.000000  A\n",
       "2013-02-05           287424.0   6.65         0.19  0.781831  0.623490  A\n",
       "2013-02-06           294084.0   2.71         0.10  0.974928 -0.222521  A\n",
       "...                       ...    ...          ...       ...       ... ..\n",
       "2018-07-16           200204.0  23.23         8.66  0.000000  1.000000  A\n",
       "2018-07-17           200997.0  25.79         0.00  0.781831  0.623490  A\n",
       "2018-07-18           206508.0  26.06         0.00  0.974928 -0.222521  A\n",
       "2018-07-19           207337.0  26.34         0.01  0.433884 -0.900969  A\n",
       "2018-07-20           210472.0  26.12         0.66 -0.433884 -0.900969  A\n",
       "\n",
       "[1995 rows x 6 columns]"
      ]
     },
     "execution_count": 14,
     "metadata": {},
     "output_type": "execute_result"
    }
   ],
   "source": [
    "df_train"
   ]
  },
  {
   "cell_type": "code",
   "execution_count": 15,
   "id": "038ac382",
   "metadata": {},
   "outputs": [
    {
     "data": {
      "text/html": [
       "<div>\n",
       "<style scoped>\n",
       "    .dataframe tbody tr th:only-of-type {\n",
       "        vertical-align: middle;\n",
       "    }\n",
       "\n",
       "    .dataframe tbody tr th {\n",
       "        vertical-align: top;\n",
       "    }\n",
       "\n",
       "    .dataframe thead th {\n",
       "        text-align: right;\n",
       "    }\n",
       "</style>\n",
       "<table border=\"1\" class=\"dataframe\">\n",
       "  <thead>\n",
       "    <tr style=\"text-align: right;\">\n",
       "      <th></th>\n",
       "      <th>Consommation (MW)</th>\n",
       "      <th>T2M</th>\n",
       "      <th>PRECTOTCORR</th>\n",
       "      <th>sin_day</th>\n",
       "      <th>cos_day</th>\n",
       "      <th>id</th>\n",
       "    </tr>\n",
       "    <tr>\n",
       "      <th>Date</th>\n",
       "      <th></th>\n",
       "      <th></th>\n",
       "      <th></th>\n",
       "      <th></th>\n",
       "      <th></th>\n",
       "      <th></th>\n",
       "    </tr>\n",
       "  </thead>\n",
       "  <tbody>\n",
       "    <tr>\n",
       "      <th>2018-07-21</th>\n",
       "      <td>197361.0</td>\n",
       "      <td>23.79</td>\n",
       "      <td>7.19</td>\n",
       "      <td>-0.974928</td>\n",
       "      <td>-0.222521</td>\n",
       "      <td>A</td>\n",
       "    </tr>\n",
       "    <tr>\n",
       "      <th>2018-07-22</th>\n",
       "      <td>186130.0</td>\n",
       "      <td>23.29</td>\n",
       "      <td>0.07</td>\n",
       "      <td>-0.781831</td>\n",
       "      <td>0.623490</td>\n",
       "      <td>A</td>\n",
       "    </tr>\n",
       "    <tr>\n",
       "      <th>2018-07-23</th>\n",
       "      <td>204687.0</td>\n",
       "      <td>25.78</td>\n",
       "      <td>0.00</td>\n",
       "      <td>0.000000</td>\n",
       "      <td>1.000000</td>\n",
       "      <td>A</td>\n",
       "    </tr>\n",
       "    <tr>\n",
       "      <th>2018-07-24</th>\n",
       "      <td>210549.0</td>\n",
       "      <td>25.56</td>\n",
       "      <td>0.12</td>\n",
       "      <td>0.781831</td>\n",
       "      <td>0.623490</td>\n",
       "      <td>A</td>\n",
       "    </tr>\n",
       "    <tr>\n",
       "      <th>2018-07-25</th>\n",
       "      <td>214022.0</td>\n",
       "      <td>27.27</td>\n",
       "      <td>0.38</td>\n",
       "      <td>0.974928</td>\n",
       "      <td>-0.222521</td>\n",
       "      <td>A</td>\n",
       "    </tr>\n",
       "    <tr>\n",
       "      <th>...</th>\n",
       "      <td>...</td>\n",
       "      <td>...</td>\n",
       "      <td>...</td>\n",
       "      <td>...</td>\n",
       "      <td>...</td>\n",
       "      <td>...</td>\n",
       "    </tr>\n",
       "    <tr>\n",
       "      <th>2020-05-11</th>\n",
       "      <td>171255.0</td>\n",
       "      <td>14.02</td>\n",
       "      <td>13.12</td>\n",
       "      <td>0.000000</td>\n",
       "      <td>1.000000</td>\n",
       "      <td>A</td>\n",
       "    </tr>\n",
       "    <tr>\n",
       "      <th>2020-05-12</th>\n",
       "      <td>171605.0</td>\n",
       "      <td>15.05</td>\n",
       "      <td>0.05</td>\n",
       "      <td>0.781831</td>\n",
       "      <td>0.623490</td>\n",
       "      <td>A</td>\n",
       "    </tr>\n",
       "    <tr>\n",
       "      <th>2020-05-13</th>\n",
       "      <td>173495.0</td>\n",
       "      <td>16.50</td>\n",
       "      <td>2.15</td>\n",
       "      <td>0.974928</td>\n",
       "      <td>-0.222521</td>\n",
       "      <td>A</td>\n",
       "    </tr>\n",
       "    <tr>\n",
       "      <th>2020-05-14</th>\n",
       "      <td>173646.0</td>\n",
       "      <td>16.55</td>\n",
       "      <td>8.66</td>\n",
       "      <td>0.433884</td>\n",
       "      <td>-0.900969</td>\n",
       "      <td>A</td>\n",
       "    </tr>\n",
       "    <tr>\n",
       "      <th>2020-05-15</th>\n",
       "      <td>171407.0</td>\n",
       "      <td>15.85</td>\n",
       "      <td>0.14</td>\n",
       "      <td>-0.433884</td>\n",
       "      <td>-0.900969</td>\n",
       "      <td>A</td>\n",
       "    </tr>\n",
       "  </tbody>\n",
       "</table>\n",
       "<p>665 rows × 6 columns</p>\n",
       "</div>"
      ],
      "text/plain": [
       "            Consommation (MW)    T2M  PRECTOTCORR   sin_day   cos_day id\n",
       "Date                                                                    \n",
       "2018-07-21           197361.0  23.79         7.19 -0.974928 -0.222521  A\n",
       "2018-07-22           186130.0  23.29         0.07 -0.781831  0.623490  A\n",
       "2018-07-23           204687.0  25.78         0.00  0.000000  1.000000  A\n",
       "2018-07-24           210549.0  25.56         0.12  0.781831  0.623490  A\n",
       "2018-07-25           214022.0  27.27         0.38  0.974928 -0.222521  A\n",
       "...                       ...    ...          ...       ...       ... ..\n",
       "2020-05-11           171255.0  14.02        13.12  0.000000  1.000000  A\n",
       "2020-05-12           171605.0  15.05         0.05  0.781831  0.623490  A\n",
       "2020-05-13           173495.0  16.50         2.15  0.974928 -0.222521  A\n",
       "2020-05-14           173646.0  16.55         8.66  0.433884 -0.900969  A\n",
       "2020-05-15           171407.0  15.85         0.14 -0.433884 -0.900969  A\n",
       "\n",
       "[665 rows x 6 columns]"
      ]
     },
     "execution_count": 15,
     "metadata": {},
     "output_type": "execute_result"
    }
   ],
   "source": [
    "df_val"
   ]
  },
  {
   "cell_type": "code",
   "execution_count": 16,
   "id": "654d9943",
   "metadata": {},
   "outputs": [],
   "source": [
    "#df=df.copy()\n",
    "#df['Consommation (MW)'].iloc[-N_test:]=0 ###Commenter cette ligne pour preuve du bon fonctionnement"
   ]
  },
  {
   "cell_type": "code",
   "execution_count": 17,
   "id": "e248a9f9",
   "metadata": {},
   "outputs": [],
   "source": [
    "exo_feature = ['T2M','PRECTOTCORR', 'sin_day', 'cos_day']"
   ]
  },
  {
   "cell_type": "code",
   "execution_count": 18,
   "id": "3ed9ec05",
   "metadata": {},
   "outputs": [],
   "source": [
    "ds_train = PandasDataset(df_train, target=\"Consommation (MW)\",feat_dynamic_real=exo_feature)\n",
    "ds_val = PandasDataset(df_val, target=\"Consommation (MW)\",feat_dynamic_real=exo_feature)"
   ]
  },
  {
   "cell_type": "code",
   "execution_count": 19,
   "id": "c8455560",
   "metadata": {},
   "outputs": [
    {
     "name": "stderr",
     "output_type": "stream",
     "text": [
      "100%|███████████████████████████████████████████████████████████████████████████████████████████████████████████████████████████████████████| 50/50 [00:03<00:00, 12.52it/s, epoch=1/6, avg_epoch_loss=13.7]\n",
      "1it [00:00, 33.48it/s, epoch=1/6, validation_avg_epoch_loss=12.8]\n",
      "100%|███████████████████████████████████████████████████████████████████████████████████████████████████████████████████████████████████████| 50/50 [00:02<00:00, 17.01it/s, epoch=2/6, avg_epoch_loss=12.8]\n",
      "1it [00:00, 34.34it/s, epoch=2/6, validation_avg_epoch_loss=12.1]\n",
      "100%|███████████████████████████████████████████████████████████████████████████████████████████████████████████████████████████████████████| 50/50 [00:03<00:00, 15.75it/s, epoch=3/6, avg_epoch_loss=12.1]\n",
      "1it [00:00, 36.66it/s, epoch=3/6, validation_avg_epoch_loss=11.4]\n",
      "100%|███████████████████████████████████████████████████████████████████████████████████████████████████████████████████████████████████████| 50/50 [00:02<00:00, 17.91it/s, epoch=4/6, avg_epoch_loss=11.6]\n",
      "1it [00:00, 32.82it/s, epoch=4/6, validation_avg_epoch_loss=10.9]\n",
      "100%|███████████████████████████████████████████████████████████████████████████████████████████████████████████████████████████████████████| 50/50 [00:02<00:00, 18.26it/s, epoch=5/6, avg_epoch_loss=11.3]\n",
      "1it [00:00, 32.67it/s, epoch=5/6, validation_avg_epoch_loss=10.8]\n",
      "100%|███████████████████████████████████████████████████████████████████████████████████████████████████████████████████████████████████████| 50/50 [00:02<00:00, 17.40it/s, epoch=6/6, avg_epoch_loss=11.2]\n",
      "1it [00:00, 32.30it/s, epoch=6/6, validation_avg_epoch_loss=10.7]\n"
     ]
    }
   ],
   "source": [
    "estimator = DeepAREstimator(\n",
    "    freq=ds_train.freq, prediction_length=N_test, trainer=Trainer(epochs=6,learning_rate=0.0001),\n",
    "    use_feat_dynamic_real=True,\n",
    "    batch_size=16,\n",
    "    num_layers=2,\n",
    "    num_cells=40\n",
    ")\n",
    "\n",
    "predictor = estimator.train(ds_train,ds_val)"
   ]
  },
  {
   "cell_type": "code",
   "execution_count": 161,
   "id": "f255a6bc",
   "metadata": {},
   "outputs": [],
   "source": [
    "reduction=1000\n",
    "ds = PandasDataset(df.iloc[:-reduction], target=\"Consommation (MW)\",feat_dynamic_real=exo_feature)"
   ]
  },
  {
   "cell_type": "code",
   "execution_count": 162,
   "id": "d41bf235",
   "metadata": {},
   "outputs": [],
   "source": [
    "forecast_it, ts_it = make_evaluation_predictions(\n",
    "    dataset=ds,#dataset.test,  # test dataset\n",
    "    predictor=predictor,  # predictor, réglé pour predire les N_test derniers jours du dataframe\n",
    "    num_samples=100,  # number of sample paths we want for evaluation, is useful for confidence interval\n",
    ")"
   ]
  },
  {
   "cell_type": "code",
   "execution_count": 163,
   "id": "dba5c6fe",
   "metadata": {},
   "outputs": [],
   "source": [
    "forecasts = list(forecast_it)\n",
    "tss = list(ts_it)"
   ]
  },
  {
   "cell_type": "code",
   "execution_count": 164,
   "id": "ad3ebf9a",
   "metadata": {},
   "outputs": [],
   "source": [
    "# first entry of the time series list\n",
    "ts_entry = tss[0]\n",
    "\n",
    "#np.array(ts_entry[:5]).reshape(-1,) #Get first values"
   ]
  },
  {
   "cell_type": "code",
   "execution_count": 165,
   "id": "1e3fc5a0",
   "metadata": {},
   "outputs": [],
   "source": [
    "forecast_entry = forecasts[0]"
   ]
  },
  {
   "cell_type": "code",
   "execution_count": 166,
   "id": "a2197d0e",
   "metadata": {},
   "outputs": [
    {
     "data": {
      "image/png": "[encoded data removed]",
      "text/plain": [
       "<Figure size 720x504 with 1 Axes>"
      ]
     },
     "metadata": {
      "needs_background": "light"
     },
     "output_type": "display_data"
    }
   ],
   "source": [
    "plot_length = N_test\n",
    "prediction_intervals = (50.0, 90.0)\n",
    "legend = [\"observations\", \"median prediction\"] + [f\"{k}% prediction interval\" for k in prediction_intervals][::-1] + ['true_value']\n",
    "fig, ax = plt.subplots(1, 1, figsize=(10, 7))\n",
    "\n",
    "forecast_entry.plot(prediction_intervals=prediction_intervals, color=\"g\",label='prediction')\n",
    "plt.plot(forecast_entry.mean,label='mean',color='k')\n",
    "plt.plot(df['Consommation (MW)'],label='Training',color='blue')\n",
    "plt.plot(ts_entry[-plot_length:],label='True value',color='red')\n",
    "plt.legend(loc=\"upper left\")\n",
    "plt.xlim(left=df['Consommation (MW)'].index[-reduction-50])\n",
    "#plt.xlim(left=ts_entry[-plot_length:].index[0])\n",
    "plt.show()"
   ]
  },
  {
   "cell_type": "code",
   "execution_count": 168,
   "id": "6247a425",
   "metadata": {},
   "outputs": [],
   "source": [
    "y_baseline = np.ones(N_test)*df['Consommation (MW)'].iloc[-reduction-N_test-1]\n",
    "y_true = df['Consommation (MW)'].iloc[-reduction-N_test:-reduction]\n",
    "y_pred = forecasts[0].median"
   ]
  },
  {
   "cell_type": "code",
   "execution_count": 174,
   "id": "bd9f411c",
   "metadata": {},
   "outputs": [
    {
     "name": "stdout",
     "output_type": "stream",
     "text": [
      "mape(y_pred) = 0.026330367954772362\n",
      "mape(y_baseline) = 0.049984032693122515\n"
     ]
    }
   ],
   "source": [
    "print(f'mape(y_pred) = {mean_absolute_percentage_error(y_true, y_pred)}')\n",
    "print(f'mape(y_baseline) = {mean_absolute_percentage_error(y_true, y_baseline)}')"
   ]
  }
 ],
 "metadata": {
  "kernelspec": {
   "display_name": "Python 3 (ipykernel)",
   "language": "python",
   "name": "python3"
  },
  "language_info": {
   "codemirror_mode": {
    "name": "ipython",
    "version": 3
   },
   "file_extension": ".py",
   "mimetype": "text/x-python",
   "name": "python",
   "nbconvert_exporter": "python",
   "pygments_lexer": "ipython3",
   "version": "3.9.7"
  },
  "toc": {
   "base_numbering": 1,
   "nav_menu": {},
   "number_sections": true,
   "sideBar": true,
   "skip_h1_title": false,
   "title_cell": "Table of Contents",
   "title_sidebar": "Contents",
   "toc_cell": false,
   "toc_position": {},
   "toc_section_display": true,
   "toc_window_display": false
  }
 },
 "nbformat": 4,
 "nbformat_minor": 5
}
