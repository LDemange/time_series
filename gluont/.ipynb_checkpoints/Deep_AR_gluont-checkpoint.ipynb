{
 "cells": [
  {
   "cell_type": "code",
   "execution_count": 1,
   "id": "9368591f",
   "metadata": {},
   "outputs": [
    {
     "name": "stderr",
     "output_type": "stream",
     "text": [
      "2022-09-15 13:29:28.719118: W tensorflow/stream_executor/platform/default/dso_loader.cc:64] Could not load dynamic library 'libcudart.so.11.0'; dlerror: libcudart.so.11.0: cannot open shared object file: No such file or directory\n",
      "2022-09-15 13:29:28.719140: I tensorflow/stream_executor/cuda/cudart_stub.cc:29] Ignore above cudart dlerror if you do not have a GPU set up on your machine.\n",
      "/home/demange/.pyenv/versions/lewagon/lib/python3.9/site-packages/gluonts/json.py:101: UserWarning: Using `json`-module for json-handling. Consider installing one of `orjson`, `ujson` to speed up serialization and deserialization.\n",
      "  warnings.warn(\n"
     ]
    }
   ],
   "source": [
    "import pandas as pd\n",
    "import numpy as np\n",
    "from sklearn.preprocessing import RobustScaler, OneHotEncoder, OrdinalEncoder\n",
    "from sklearn.linear_model import Ridge, Lasso, LinearRegression\n",
    "from sklearn.pipeline import Pipeline, make_pipeline\n",
    "from sklearn.impute import SimpleImputer, KNNImputer\n",
    "from sklearn.compose import ColumnTransformer, make_column_transformer, make_column_selector\n",
    "from sklearn.preprocessing import MinMaxScaler, StandardScaler\n",
    "from sklearn.model_selection import cross_validate\n",
    "from sklearn.metrics import mean_absolute_percentage_error\n",
    "from sklearn.model_selection import cross_val_score\n",
    "from tensorflow.keras import Sequential, layers\n",
    "import matplotlib.pyplot as plt\n",
    "pd.set_option(\"display.max_columns\", False)\n",
    "from sklearn.metrics import mean_absolute_percentage_error\n",
    "from datetime import date, timedelta, datetime\n",
    "from sklearn.metrics import r2_score\n",
    "from tensorflow.keras.optimizers import Adam\n",
    "######################################################\n",
    "from gluonts.dataset.util import to_pandas\n",
    "from gluonts.dataset.pandas import PandasDataset\n",
    "from gluonts.dataset.repository.datasets import get_dataset\n",
    "from gluonts.model.deepar import DeepAREstimator\n",
    "from gluonts.mx import Trainer\n",
    "from gluonts.evaluation import make_evaluation_predictions\n",
    "import matplotlib.pyplot as plt"
   ]
  },
  {
   "cell_type": "markdown",
   "id": "56bbf9b5",
   "metadata": {},
   "source": [
    "# Prepare dataset"
   ]
  },
  {
   "cell_type": "markdown",
   "id": "b67af6fc",
   "metadata": {},
   "source": [
    "## Load data"
   ]
  },
  {
   "cell_type": "code",
   "execution_count": 2,
   "id": "7b279828",
   "metadata": {},
   "outputs": [],
   "source": [
    "df = pd.read_csv('../data/data_preparation.csv', index_col=[0])"
   ]
  },
  {
   "cell_type": "markdown",
   "id": "407c2a98",
   "metadata": {},
   "source": [
    "## Fill missing data"
   ]
  },
  {
   "cell_type": "code",
   "execution_count": 3,
   "id": "fdf2aa8f",
   "metadata": {},
   "outputs": [],
   "source": [
    "def replace_val(df,date1,date2): #on remplace les NaN dans l intervalle de date\n",
    "    for col in df.columns:\n",
    "        imputer = KNNImputer(n_neighbors=7) # Instantiate a SimpleImputer object with your strategy of choice\n",
    "        imputer.fit(df[[col]]) # Call the \"fit\" method on the object\n",
    "        df[col] = imputer.transform(df[[col]]) # Call the \"transform\" method on the object"
   ]
  },
  {
   "cell_type": "code",
   "execution_count": 4,
   "id": "a0b59e2f",
   "metadata": {},
   "outputs": [],
   "source": [
    "df['Date']=pd.to_datetime(df['Date'], errors='coerce')\n",
    "df = df.set_index('Date').asfreq('D')\n",
    "replace_val(df,'2022-04-30','2022-05-06')"
   ]
  },
  {
   "cell_type": "markdown",
   "id": "fdb18606",
   "metadata": {},
   "source": [
    "### Select relevant features"
   ]
  },
  {
   "cell_type": "code",
   "execution_count": 5,
   "id": "4f16686f",
   "metadata": {},
   "outputs": [],
   "source": [
    "df.drop(columns=['t - 1', 't - 2', 't - 3', 't - 4', 't - 5',\n",
    "       't - 6', 't - 7', 't - 8', 't - 9', 't - 10', 't - 11', 't - 12',\n",
    "       't - 13', 't - 14', 't - 15', 't - 16', 't - 17', 't - 18', 't - 19',\n",
    "       't - 20', 't - 21', 't - 22', 't - 23', 't - 24', 't - 25', 't - 26',\n",
    "       't - 27', 't - 28', 't - 29', 't - 30','sin365_1', 'cos365_1', 'sin365_2', 'cos365_2',\n",
    "       'sin365_3', 'cos365_3','bank_holiday', 'school_holidays',\n",
    "       'season','Thermique (MW)', 'Nucléaire (MW)', 'Eolien (MW)', 'Solaire (MW)',\n",
    "       'Hydraulique (MW)', 'Pompage (MW)', 'Bioénergies (MW)',\n",
    "       'Ech. physiques (MW)', 'Stockage batterie', 'Déstockage batterie',\n",
    "       'Eolien terrestre', 'Eolien offshore', 'TCO Thermique (%)',\n",
    "       'TCH Thermique (%)', 'TCO Nucléaire (%)', 'TCH Nucléaire (%)',\n",
    "       'TCO Eolien (%)', 'TCH Eolien (%)', 'TCO Solaire (%)',\n",
    "       'TCH Solaire (%)', 'Column 30','Code INSEE région','sin_month', 'cos_month',\n",
    "        'num_day',\n",
    "        'YEAR', 'MONTH', 'DAY',\n",
    "        'T2MDEW', 'T2MWET', 'TS', 'T2M_RANGE',\n",
    "       'T2M_MAX', 'T2M_MIN','PS', 'QV2M','WS10M','WS50M','RH2M','week_day' #temoin\n",
    "        #'PRECTOTCORR' # PRECTOTCORR is bias-corrected total precipitation\n",
    "        #'sin_day','cos_day'\n",
    "                ],inplace=True)"
   ]
  },
  {
   "cell_type": "code",
   "execution_count": 6,
   "id": "0e8a21c0",
   "metadata": {},
   "outputs": [],
   "source": [
    "df['id']='A'"
   ]
  },
  {
   "cell_type": "code",
   "execution_count": 7,
   "id": "312f4908",
   "metadata": {},
   "outputs": [
    {
     "data": {
      "text/html": [
       "<div>\n",
       "<style scoped>\n",
       "    .dataframe tbody tr th:only-of-type {\n",
       "        vertical-align: middle;\n",
       "    }\n",
       "\n",
       "    .dataframe tbody tr th {\n",
       "        vertical-align: top;\n",
       "    }\n",
       "\n",
       "    .dataframe thead th {\n",
       "        text-align: right;\n",
       "    }\n",
       "</style>\n",
       "<table border=\"1\" class=\"dataframe\">\n",
       "  <thead>\n",
       "    <tr style=\"text-align: right;\">\n",
       "      <th></th>\n",
       "      <th>Consommation (MW)</th>\n",
       "      <th>T2M</th>\n",
       "      <th>PRECTOTCORR</th>\n",
       "      <th>sin_day</th>\n",
       "      <th>cos_day</th>\n",
       "      <th>id</th>\n",
       "    </tr>\n",
       "    <tr>\n",
       "      <th>Date</th>\n",
       "      <th></th>\n",
       "      <th></th>\n",
       "      <th></th>\n",
       "      <th></th>\n",
       "      <th></th>\n",
       "      <th></th>\n",
       "    </tr>\n",
       "  </thead>\n",
       "  <tbody>\n",
       "    <tr>\n",
       "      <th>2013-02-02</th>\n",
       "      <td>262321.0</td>\n",
       "      <td>5.55</td>\n",
       "      <td>1.94</td>\n",
       "      <td>-0.974928</td>\n",
       "      <td>-0.222521</td>\n",
       "      <td>A</td>\n",
       "    </tr>\n",
       "    <tr>\n",
       "      <th>2013-02-03</th>\n",
       "      <td>273743.0</td>\n",
       "      <td>2.96</td>\n",
       "      <td>0.02</td>\n",
       "      <td>-0.781831</td>\n",
       "      <td>0.623490</td>\n",
       "      <td>A</td>\n",
       "    </tr>\n",
       "    <tr>\n",
       "      <th>2013-02-04</th>\n",
       "      <td>295369.0</td>\n",
       "      <td>4.67</td>\n",
       "      <td>0.00</td>\n",
       "      <td>0.000000</td>\n",
       "      <td>1.000000</td>\n",
       "      <td>A</td>\n",
       "    </tr>\n",
       "    <tr>\n",
       "      <th>2013-02-05</th>\n",
       "      <td>287424.0</td>\n",
       "      <td>6.65</td>\n",
       "      <td>0.19</td>\n",
       "      <td>0.781831</td>\n",
       "      <td>0.623490</td>\n",
       "      <td>A</td>\n",
       "    </tr>\n",
       "    <tr>\n",
       "      <th>2013-02-06</th>\n",
       "      <td>294084.0</td>\n",
       "      <td>2.71</td>\n",
       "      <td>0.10</td>\n",
       "      <td>0.974928</td>\n",
       "      <td>-0.222521</td>\n",
       "      <td>A</td>\n",
       "    </tr>\n",
       "    <tr>\n",
       "      <th>...</th>\n",
       "      <td>...</td>\n",
       "      <td>...</td>\n",
       "      <td>...</td>\n",
       "      <td>...</td>\n",
       "      <td>...</td>\n",
       "      <td>...</td>\n",
       "    </tr>\n",
       "    <tr>\n",
       "      <th>2022-05-11</th>\n",
       "      <td>218296.0</td>\n",
       "      <td>18.10</td>\n",
       "      <td>0.00</td>\n",
       "      <td>0.974928</td>\n",
       "      <td>-0.222521</td>\n",
       "      <td>A</td>\n",
       "    </tr>\n",
       "    <tr>\n",
       "      <th>2022-05-12</th>\n",
       "      <td>209770.0</td>\n",
       "      <td>18.13</td>\n",
       "      <td>0.00</td>\n",
       "      <td>0.433884</td>\n",
       "      <td>-0.900969</td>\n",
       "      <td>A</td>\n",
       "    </tr>\n",
       "    <tr>\n",
       "      <th>2022-05-13</th>\n",
       "      <td>201061.0</td>\n",
       "      <td>18.01</td>\n",
       "      <td>0.10</td>\n",
       "      <td>-0.433884</td>\n",
       "      <td>-0.900969</td>\n",
       "      <td>A</td>\n",
       "    </tr>\n",
       "    <tr>\n",
       "      <th>2022-05-14</th>\n",
       "      <td>194195.0</td>\n",
       "      <td>19.47</td>\n",
       "      <td>0.83</td>\n",
       "      <td>-0.974928</td>\n",
       "      <td>-0.222521</td>\n",
       "      <td>A</td>\n",
       "    </tr>\n",
       "    <tr>\n",
       "      <th>2022-05-15</th>\n",
       "      <td>187301.0</td>\n",
       "      <td>19.63</td>\n",
       "      <td>0.44</td>\n",
       "      <td>-0.781831</td>\n",
       "      <td>0.623490</td>\n",
       "      <td>A</td>\n",
       "    </tr>\n",
       "  </tbody>\n",
       "</table>\n",
       "<p>3390 rows × 6 columns</p>\n",
       "</div>"
      ],
      "text/plain": [
       "            Consommation (MW)    T2M  PRECTOTCORR   sin_day   cos_day id\n",
       "Date                                                                    \n",
       "2013-02-02           262321.0   5.55         1.94 -0.974928 -0.222521  A\n",
       "2013-02-03           273743.0   2.96         0.02 -0.781831  0.623490  A\n",
       "2013-02-04           295369.0   4.67         0.00  0.000000  1.000000  A\n",
       "2013-02-05           287424.0   6.65         0.19  0.781831  0.623490  A\n",
       "2013-02-06           294084.0   2.71         0.10  0.974928 -0.222521  A\n",
       "...                       ...    ...          ...       ...       ... ..\n",
       "2022-05-11           218296.0  18.10         0.00  0.974928 -0.222521  A\n",
       "2022-05-12           209770.0  18.13         0.00  0.433884 -0.900969  A\n",
       "2022-05-13           201061.0  18.01         0.10 -0.433884 -0.900969  A\n",
       "2022-05-14           194195.0  19.47         0.83 -0.974928 -0.222521  A\n",
       "2022-05-15           187301.0  19.63         0.44 -0.781831  0.623490  A\n",
       "\n",
       "[3390 rows x 6 columns]"
      ]
     },
     "execution_count": 7,
     "metadata": {},
     "output_type": "execute_result"
    }
   ],
   "source": [
    "df"
   ]
  },
  {
   "cell_type": "code",
   "execution_count": 8,
   "id": "84a2300c",
   "metadata": {},
   "outputs": [],
   "source": [
    "N_test = 100"
   ]
  },
  {
   "cell_type": "code",
   "execution_count": 9,
   "id": "ce929f23",
   "metadata": {},
   "outputs": [],
   "source": [
    "df_train=df.iloc[:-N_test]"
   ]
  },
  {
   "cell_type": "code",
   "execution_count": 10,
   "id": "fc06a5f0",
   "metadata": {},
   "outputs": [],
   "source": [
    "df_test=df.iloc[-N_test:]"
   ]
  },
  {
   "cell_type": "code",
   "execution_count": null,
   "id": "037a6f12",
   "metadata": {},
   "outputs": [],
   "source": []
  },
  {
   "cell_type": "code",
   "execution_count": 11,
   "id": "c94daaf5",
   "metadata": {},
   "outputs": [
    {
     "data": {
      "text/html": [
       "<div>\n",
       "<style scoped>\n",
       "    .dataframe tbody tr th:only-of-type {\n",
       "        vertical-align: middle;\n",
       "    }\n",
       "\n",
       "    .dataframe tbody tr th {\n",
       "        vertical-align: top;\n",
       "    }\n",
       "\n",
       "    .dataframe thead th {\n",
       "        text-align: right;\n",
       "    }\n",
       "</style>\n",
       "<table border=\"1\" class=\"dataframe\">\n",
       "  <thead>\n",
       "    <tr style=\"text-align: right;\">\n",
       "      <th></th>\n",
       "      <th>Consommation (MW)</th>\n",
       "      <th>T2M</th>\n",
       "      <th>PRECTOTCORR</th>\n",
       "      <th>sin_day</th>\n",
       "      <th>cos_day</th>\n",
       "      <th>id</th>\n",
       "    </tr>\n",
       "    <tr>\n",
       "      <th>Date</th>\n",
       "      <th></th>\n",
       "      <th></th>\n",
       "      <th></th>\n",
       "      <th></th>\n",
       "      <th></th>\n",
       "      <th></th>\n",
       "    </tr>\n",
       "  </thead>\n",
       "  <tbody>\n",
       "    <tr>\n",
       "      <th>2013-02-02</th>\n",
       "      <td>262321.0</td>\n",
       "      <td>5.55</td>\n",
       "      <td>1.94</td>\n",
       "      <td>-0.974928</td>\n",
       "      <td>-0.222521</td>\n",
       "      <td>A</td>\n",
       "    </tr>\n",
       "    <tr>\n",
       "      <th>2013-02-03</th>\n",
       "      <td>273743.0</td>\n",
       "      <td>2.96</td>\n",
       "      <td>0.02</td>\n",
       "      <td>-0.781831</td>\n",
       "      <td>0.623490</td>\n",
       "      <td>A</td>\n",
       "    </tr>\n",
       "    <tr>\n",
       "      <th>2013-02-04</th>\n",
       "      <td>295369.0</td>\n",
       "      <td>4.67</td>\n",
       "      <td>0.00</td>\n",
       "      <td>0.000000</td>\n",
       "      <td>1.000000</td>\n",
       "      <td>A</td>\n",
       "    </tr>\n",
       "    <tr>\n",
       "      <th>2013-02-05</th>\n",
       "      <td>287424.0</td>\n",
       "      <td>6.65</td>\n",
       "      <td>0.19</td>\n",
       "      <td>0.781831</td>\n",
       "      <td>0.623490</td>\n",
       "      <td>A</td>\n",
       "    </tr>\n",
       "    <tr>\n",
       "      <th>2013-02-06</th>\n",
       "      <td>294084.0</td>\n",
       "      <td>2.71</td>\n",
       "      <td>0.10</td>\n",
       "      <td>0.974928</td>\n",
       "      <td>-0.222521</td>\n",
       "      <td>A</td>\n",
       "    </tr>\n",
       "  </tbody>\n",
       "</table>\n",
       "</div>"
      ],
      "text/plain": [
       "            Consommation (MW)   T2M  PRECTOTCORR   sin_day   cos_day id\n",
       "Date                                                                   \n",
       "2013-02-02           262321.0  5.55         1.94 -0.974928 -0.222521  A\n",
       "2013-02-03           273743.0  2.96         0.02 -0.781831  0.623490  A\n",
       "2013-02-04           295369.0  4.67         0.00  0.000000  1.000000  A\n",
       "2013-02-05           287424.0  6.65         0.19  0.781831  0.623490  A\n",
       "2013-02-06           294084.0  2.71         0.10  0.974928 -0.222521  A"
      ]
     },
     "execution_count": 11,
     "metadata": {},
     "output_type": "execute_result"
    }
   ],
   "source": [
    "df_train.head()"
   ]
  },
  {
   "cell_type": "code",
   "execution_count": 12,
   "id": "e5c9db07",
   "metadata": {},
   "outputs": [],
   "source": [
    "#df=df.copy()\n",
    "#df['Consommation (MW)'].iloc[-N_test:]=0 ###Commenter cette ligne pour preuve du bon fonctionnement"
   ]
  },
  {
   "cell_type": "code",
   "execution_count": 13,
   "id": "a4a68d9e",
   "metadata": {},
   "outputs": [],
   "source": [
    "exo_feature = ['T2M','PRECTOTCORR', 'sin_day', 'cos_day']"
   ]
  },
  {
   "cell_type": "code",
   "execution_count": 14,
   "id": "3ed9ec05",
   "metadata": {},
   "outputs": [],
   "source": [
    "ds = PandasDataset(df_train, target=\"Consommation (MW)\",feat_dynamic_real=exo_feature)"
   ]
  },
  {
   "cell_type": "code",
   "execution_count": 15,
   "id": "c8455560",
   "metadata": {},
   "outputs": [
    {
     "name": "stderr",
     "output_type": "stream",
     "text": [
      "100%|██████████████████████████████████████████████████████████████████████████████████████████████████████████████████████████████████████| 50/50 [00:18<00:00,  2.76it/s, epoch=1/15, avg_epoch_loss=11.8]\n",
      "100%|██████████████████████████████████████████████████████████████████████████████████████████████████████████████████████████████████████| 50/50 [00:14<00:00,  3.41it/s, epoch=2/15, avg_epoch_loss=11.2]\n",
      "100%|██████████████████████████████████████████████████████████████████████████████████████████████████████████████████████████████████████| 50/50 [00:13<00:00,  3.76it/s, epoch=3/15, avg_epoch_loss=10.9]\n",
      "100%|██████████████████████████████████████████████████████████████████████████████████████████████████████████████████████████████████████| 50/50 [00:13<00:00,  3.71it/s, epoch=4/15, avg_epoch_loss=10.6]\n",
      "100%|██████████████████████████████████████████████████████████████████████████████████████████████████████████████████████████████████████| 50/50 [00:13<00:00,  3.79it/s, epoch=5/15, avg_epoch_loss=10.5]\n",
      "100%|██████████████████████████████████████████████████████████████████████████████████████████████████████████████████████████████████████| 50/50 [00:14<00:00,  3.53it/s, epoch=6/15, avg_epoch_loss=10.5]\n",
      "100%|██████████████████████████████████████████████████████████████████████████████████████████████████████████████████████████████████████| 50/50 [00:15<00:00,  3.16it/s, epoch=7/15, avg_epoch_loss=10.4]\n",
      "100%|██████████████████████████████████████████████████████████████████████████████████████████████████████████████████████████████████████| 50/50 [00:13<00:00,  3.67it/s, epoch=8/15, avg_epoch_loss=10.3]\n",
      "100%|██████████████████████████████████████████████████████████████████████████████████████████████████████████████████████████████████████| 50/50 [00:13<00:00,  3.68it/s, epoch=9/15, avg_epoch_loss=10.3]\n",
      "100%|█████████████████████████████████████████████████████████████████████████████████████████████████████████████████████████████████████| 50/50 [00:13<00:00,  3.67it/s, epoch=10/15, avg_epoch_loss=10.3]\n",
      "100%|█████████████████████████████████████████████████████████████████████████████████████████████████████████████████████████████████████| 50/50 [00:13<00:00,  3.59it/s, epoch=11/15, avg_epoch_loss=10.2]\n",
      "100%|█████████████████████████████████████████████████████████████████████████████████████████████████████████████████████████████████████| 50/50 [00:13<00:00,  3.68it/s, epoch=12/15, avg_epoch_loss=10.2]\n",
      "100%|█████████████████████████████████████████████████████████████████████████████████████████████████████████████████████████████████████| 50/50 [00:13<00:00,  3.77it/s, epoch=13/15, avg_epoch_loss=10.2]\n",
      "100%|█████████████████████████████████████████████████████████████████████████████████████████████████████████████████████████████████████| 50/50 [00:13<00:00,  3.68it/s, epoch=14/15, avg_epoch_loss=10.1]\n",
      "100%|█████████████████████████████████████████████████████████████████████████████████████████████████████████████████████████████████████| 50/50 [00:13<00:00,  3.71it/s, epoch=15/15, avg_epoch_loss=10.1]\n"
     ]
    }
   ],
   "source": [
    "estimator = DeepAREstimator(\n",
    "    freq=ds.freq, prediction_length=N_test, trainer=Trainer(epochs=15,learning_rate=0.0005),\n",
    "    use_feat_dynamic_real=True,\n",
    "    batch_size=16,\n",
    "    num_layers=3,\n",
    "    num_cells=80\n",
    ")\n",
    "\n",
    "predictor = estimator.train(ds)"
   ]
  },
  {
   "cell_type": "code",
   "execution_count": 16,
   "id": "d6b9b615",
   "metadata": {},
   "outputs": [],
   "source": [
    "forecast_it, ts_it = make_evaluation_predictions(\n",
    "    dataset=ds,#dataset.test,  # test dataset\n",
    "    predictor=predictor,  # predictor\n",
    "    num_samples=100,  # number of sample paths we want for evaluation, is useful for confidence interval\n",
    ")"
   ]
  },
  {
   "cell_type": "code",
   "execution_count": 17,
   "id": "e2a35779",
   "metadata": {},
   "outputs": [],
   "source": [
    "forecasts = list(forecast_it)\n",
    "tss = list(ts_it)"
   ]
  },
  {
   "cell_type": "code",
   "execution_count": 18,
   "id": "dea04bf3",
   "metadata": {},
   "outputs": [],
   "source": [
    "# first entry of the time series list\n",
    "ts_entry = tss[0]"
   ]
  },
  {
   "cell_type": "code",
   "execution_count": 19,
   "id": "46c17846",
   "metadata": {},
   "outputs": [
    {
     "data": {
      "text/plain": [
       "array([262321., 273743., 295369., 287424., 294084.], dtype=float32)"
      ]
     },
     "execution_count": 19,
     "metadata": {},
     "output_type": "execute_result"
    }
   ],
   "source": [
    "# first 5 values of the time series (convert from pandas to numpy)\n",
    "np.array(ts_entry[:5]).reshape(\n",
    "    -1,\n",
    ")"
   ]
  },
  {
   "cell_type": "code",
   "execution_count": 20,
   "id": "88c99416",
   "metadata": {},
   "outputs": [],
   "source": [
    "# first entry of dataset.test\n",
    "dataset_test_entry = next(iter(ds))"
   ]
  },
  {
   "cell_type": "code",
   "execution_count": 21,
   "id": "d37ec218",
   "metadata": {},
   "outputs": [
    {
     "data": {
      "text/plain": [
       "array([262321., 273743., 295369., 287424., 294084.], dtype=float32)"
      ]
     },
     "execution_count": 21,
     "metadata": {},
     "output_type": "execute_result"
    }
   ],
   "source": [
    "# first 5 values\n",
    "dataset_test_entry[\"target\"][:5]"
   ]
  },
  {
   "cell_type": "code",
   "execution_count": 22,
   "id": "74392435",
   "metadata": {},
   "outputs": [],
   "source": [
    "forecast_entry = forecasts[0]"
   ]
  },
  {
   "cell_type": "code",
   "execution_count": 23,
   "id": "31e5845e",
   "metadata": {},
   "outputs": [
    {
     "name": "stdout",
     "output_type": "stream",
     "text": [
      "Number of sample paths: 100\n",
      "Dimension of samples: (100, 100)\n",
      "Start date of the forecast window: 2021-10-28\n",
      "Frequency of the time series: <Day>\n"
     ]
    }
   ],
   "source": [
    "print(f\"Number of sample paths: {forecast_entry.num_samples}\")\n",
    "print(f\"Dimension of samples: {forecast_entry.samples.shape}\")\n",
    "print(f\"Start date of the forecast window: {forecast_entry.start_date}\")\n",
    "print(f\"Frequency of the time series: {forecast_entry.freq}\")"
   ]
  },
  {
   "cell_type": "code",
   "execution_count": 24,
   "id": "0138d884",
   "metadata": {},
   "outputs": [],
   "source": [
    "def plot_prob_forecasts(ts_entry, forecast_entry):\n",
    "    plot_length = 150\n",
    "    prediction_intervals = (50.0, 90.0)\n",
    "    legend = [\"observations\", \"median prediction\"] + [\n",
    "        f\"{k}% prediction interval\" for k in prediction_intervals\n",
    "    ][::-1]\n",
    "\n",
    "    fig, ax = plt.subplots(1, 1, figsize=(10, 7))\n",
    "    ts_entry[-plot_length:].plot(ax=ax)  # plot the time series\n",
    "    forecast_entry.plot(prediction_intervals=prediction_intervals, color=\"g\")\n",
    "    plt.grid(which=\"both\")\n",
    "    plt.legend(legend, loc=\"upper left\")\n",
    "    plt.show()\n",
    "    return ax"
   ]
  },
  {
   "cell_type": "code",
   "execution_count": 25,
   "id": "17e92216",
   "metadata": {},
   "outputs": [
    {
     "data": {
      "image/png": "[encoded data removed]",
      "text/plain": [
       "<Figure size 720x504 with 1 Axes>"
      ]
     },
     "metadata": {
      "needs_background": "light"
     },
     "output_type": "display_data"
    },
    {
     "data": {
      "text/plain": [
       "<AxesSubplot:>"
      ]
     },
     "execution_count": 25,
     "metadata": {},
     "output_type": "execute_result"
    }
   ],
   "source": [
    "plot_prob_forecasts(ts_entry, forecast_entry)"
   ]
  },
  {
   "cell_type": "code",
   "execution_count": 26,
   "id": "6c64d911",
   "metadata": {},
   "outputs": [
    {
     "data": {
      "text/html": [
       "<div>\n",
       "<style scoped>\n",
       "    .dataframe tbody tr th:only-of-type {\n",
       "        vertical-align: middle;\n",
       "    }\n",
       "\n",
       "    .dataframe tbody tr th {\n",
       "        vertical-align: top;\n",
       "    }\n",
       "\n",
       "    .dataframe thead th {\n",
       "        text-align: right;\n",
       "    }\n",
       "</style>\n",
       "<table border=\"1\" class=\"dataframe\">\n",
       "  <thead>\n",
       "    <tr style=\"text-align: right;\">\n",
       "      <th></th>\n",
       "      <th>Consommation (MW)</th>\n",
       "      <th>T2M</th>\n",
       "      <th>PRECTOTCORR</th>\n",
       "      <th>sin_day</th>\n",
       "      <th>cos_day</th>\n",
       "      <th>id</th>\n",
       "    </tr>\n",
       "    <tr>\n",
       "      <th>Date</th>\n",
       "      <th></th>\n",
       "      <th></th>\n",
       "      <th></th>\n",
       "      <th></th>\n",
       "      <th></th>\n",
       "      <th></th>\n",
       "    </tr>\n",
       "  </thead>\n",
       "  <tbody>\n",
       "    <tr>\n",
       "      <th>2022-02-05</th>\n",
       "      <td>242500.0</td>\n",
       "      <td>7.63</td>\n",
       "      <td>0.00</td>\n",
       "      <td>-0.974928</td>\n",
       "      <td>-0.222521</td>\n",
       "      <td>A</td>\n",
       "    </tr>\n",
       "    <tr>\n",
       "      <th>2022-02-06</th>\n",
       "      <td>247465.0</td>\n",
       "      <td>7.06</td>\n",
       "      <td>0.00</td>\n",
       "      <td>-0.781831</td>\n",
       "      <td>0.623490</td>\n",
       "      <td>A</td>\n",
       "    </tr>\n",
       "    <tr>\n",
       "      <th>2022-02-07</th>\n",
       "      <td>252970.0</td>\n",
       "      <td>6.89</td>\n",
       "      <td>0.00</td>\n",
       "      <td>0.000000</td>\n",
       "      <td>1.000000</td>\n",
       "      <td>A</td>\n",
       "    </tr>\n",
       "    <tr>\n",
       "      <th>2022-02-08</th>\n",
       "      <td>258963.0</td>\n",
       "      <td>7.96</td>\n",
       "      <td>0.00</td>\n",
       "      <td>0.781831</td>\n",
       "      <td>0.623490</td>\n",
       "      <td>A</td>\n",
       "    </tr>\n",
       "    <tr>\n",
       "      <th>2022-02-09</th>\n",
       "      <td>258503.0</td>\n",
       "      <td>8.03</td>\n",
       "      <td>0.00</td>\n",
       "      <td>0.974928</td>\n",
       "      <td>-0.222521</td>\n",
       "      <td>A</td>\n",
       "    </tr>\n",
       "    <tr>\n",
       "      <th>...</th>\n",
       "      <td>...</td>\n",
       "      <td>...</td>\n",
       "      <td>...</td>\n",
       "      <td>...</td>\n",
       "      <td>...</td>\n",
       "      <td>...</td>\n",
       "    </tr>\n",
       "    <tr>\n",
       "      <th>2022-05-11</th>\n",
       "      <td>218296.0</td>\n",
       "      <td>18.10</td>\n",
       "      <td>0.00</td>\n",
       "      <td>0.974928</td>\n",
       "      <td>-0.222521</td>\n",
       "      <td>A</td>\n",
       "    </tr>\n",
       "    <tr>\n",
       "      <th>2022-05-12</th>\n",
       "      <td>209770.0</td>\n",
       "      <td>18.13</td>\n",
       "      <td>0.00</td>\n",
       "      <td>0.433884</td>\n",
       "      <td>-0.900969</td>\n",
       "      <td>A</td>\n",
       "    </tr>\n",
       "    <tr>\n",
       "      <th>2022-05-13</th>\n",
       "      <td>201061.0</td>\n",
       "      <td>18.01</td>\n",
       "      <td>0.10</td>\n",
       "      <td>-0.433884</td>\n",
       "      <td>-0.900969</td>\n",
       "      <td>A</td>\n",
       "    </tr>\n",
       "    <tr>\n",
       "      <th>2022-05-14</th>\n",
       "      <td>194195.0</td>\n",
       "      <td>19.47</td>\n",
       "      <td>0.83</td>\n",
       "      <td>-0.974928</td>\n",
       "      <td>-0.222521</td>\n",
       "      <td>A</td>\n",
       "    </tr>\n",
       "    <tr>\n",
       "      <th>2022-05-15</th>\n",
       "      <td>187301.0</td>\n",
       "      <td>19.63</td>\n",
       "      <td>0.44</td>\n",
       "      <td>-0.781831</td>\n",
       "      <td>0.623490</td>\n",
       "      <td>A</td>\n",
       "    </tr>\n",
       "  </tbody>\n",
       "</table>\n",
       "<p>100 rows × 6 columns</p>\n",
       "</div>"
      ],
      "text/plain": [
       "            Consommation (MW)    T2M  PRECTOTCORR   sin_day   cos_day id\n",
       "Date                                                                    \n",
       "2022-02-05           242500.0   7.63         0.00 -0.974928 -0.222521  A\n",
       "2022-02-06           247465.0   7.06         0.00 -0.781831  0.623490  A\n",
       "2022-02-07           252970.0   6.89         0.00  0.000000  1.000000  A\n",
       "2022-02-08           258963.0   7.96         0.00  0.781831  0.623490  A\n",
       "2022-02-09           258503.0   8.03         0.00  0.974928 -0.222521  A\n",
       "...                       ...    ...          ...       ...       ... ..\n",
       "2022-05-11           218296.0  18.10         0.00  0.974928 -0.222521  A\n",
       "2022-05-12           209770.0  18.13         0.00  0.433884 -0.900969  A\n",
       "2022-05-13           201061.0  18.01         0.10 -0.433884 -0.900969  A\n",
       "2022-05-14           194195.0  19.47         0.83 -0.974928 -0.222521  A\n",
       "2022-05-15           187301.0  19.63         0.44 -0.781831  0.623490  A\n",
       "\n",
       "[100 rows x 6 columns]"
      ]
     },
     "execution_count": 26,
     "metadata": {},
     "output_type": "execute_result"
    }
   ],
   "source": [
    "df_test"
   ]
  },
  {
   "cell_type": "code",
   "execution_count": 27,
   "id": "f255a6bc",
   "metadata": {},
   "outputs": [],
   "source": [
    "ds = PandasDataset(df, target=\"Consommation (MW)\",feat_dynamic_real=exo_feature)"
   ]
  },
  {
   "cell_type": "code",
   "execution_count": 28,
   "id": "6a1dff94",
   "metadata": {},
   "outputs": [],
   "source": [
    "forecast_it, ts_it = make_evaluation_predictions(\n",
    "    dataset=ds,#dataset.test,  # test dataset\n",
    "    predictor=predictor,  # predictor\n",
    "    num_samples=100,  # number of sample paths we want for evaluation, is useful for confidence interval\n",
    ")"
   ]
  },
  {
   "cell_type": "code",
   "execution_count": 29,
   "id": "4d8b39cd",
   "metadata": {},
   "outputs": [],
   "source": [
    "forecasts = list(forecast_it)\n",
    "tss = list(ts_it)"
   ]
  },
  {
   "cell_type": "code",
   "execution_count": 30,
   "id": "bc2e4fa8",
   "metadata": {},
   "outputs": [],
   "source": [
    "# first entry of the time series list\n",
    "ts_entry = tss[0]"
   ]
  },
  {
   "cell_type": "code",
   "execution_count": 31,
   "id": "53dffbba",
   "metadata": {},
   "outputs": [],
   "source": [
    "forecast_entry = forecasts[0]"
   ]
  },
  {
   "cell_type": "code",
   "execution_count": 32,
   "id": "f9a7ec30",
   "metadata": {},
   "outputs": [
    {
     "data": {
      "image/png": "[encoded data removed]",
      "text/plain": [
       "<Figure size 720x504 with 1 Axes>"
      ]
     },
     "metadata": {
      "needs_background": "light"
     },
     "output_type": "display_data"
    }
   ],
   "source": [
    "plot_length = 100\n",
    "prediction_intervals = (50.0, 90.0)\n",
    "legend = [\"observations\", \"median prediction\"] + [f\"{k}% prediction interval\" for k in prediction_intervals][::-1] + ['true_value']\n",
    "fig, ax = plt.subplots(1, 1, figsize=(10, 7))\n",
    "\n",
    "forecast_entry.plot(prediction_intervals=prediction_intervals, color=\"g\",label='prediction')\n",
    "plt.plot(df['Consommation (MW)'],label='Training',color='blue')\n",
    "plt.plot(ts_entry[-plot_length:],label='True value',color='red')\n",
    "plt.legend(loc=\"upper left\")\n",
    "plt.xlim(left=df['Consommation (MW)'].index[3200])\n",
    "#plt.xlim(left=ts_entry[-plot_length:].index[0])\n",
    "plt.show()"
   ]
  },
  {
   "cell_type": "code",
   "execution_count": 33,
   "id": "6cb56920",
   "metadata": {},
   "outputs": [
    {
     "data": {
      "text/plain": [
       "Timestamp('2022-02-05 00:00:00', freq='D')"
      ]
     },
     "execution_count": 33,
     "metadata": {},
     "output_type": "execute_result"
    }
   ],
   "source": [
    "df_test['Consommation (MW)'].index[0]"
   ]
  },
  {
   "cell_type": "code",
   "execution_count": null,
   "id": "ca02e27c",
   "metadata": {},
   "outputs": [],
   "source": []
  }
 ],
 "metadata": {
  "kernelspec": {
   "display_name": "Python 3 (ipykernel)",
   "language": "python",
   "name": "python3"
  },
  "language_info": {
   "codemirror_mode": {
    "name": "ipython",
    "version": 3
   },
   "file_extension": ".py",
   "mimetype": "text/x-python",
   "name": "python",
   "nbconvert_exporter": "python",
   "pygments_lexer": "ipython3",
   "version": "3.9.7"
  },
  "toc": {
   "base_numbering": 1,
   "nav_menu": {},
   "number_sections": true,
   "sideBar": true,
   "skip_h1_title": false,
   "title_cell": "Table of Contents",
   "title_sidebar": "Contents",
   "toc_cell": false,
   "toc_position": {},
   "toc_section_display": true,
   "toc_window_display": false
  }
 },
 "nbformat": 4,
 "nbformat_minor": 5
}
